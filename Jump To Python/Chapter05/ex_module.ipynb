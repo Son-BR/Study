{
 "cells": [
  {
   "cell_type": "markdown",
   "metadata": {},
   "source": [
    "# 모듈\n",
    " - 함수나 변수 또는 클래스를 모아 놓은 파일\n",
    " - 다른 파이썬 프로그램에서 불러와 사용할 수 있게끔 만든 파이썬 파일"
   ]
  },
  {
   "cell_type": "code",
   "execution_count": null,
   "metadata": {},
   "outputs": [],
   "source": [
    "# moduleName.py 예시\n",
    "\n",
    "# 덧셈, 뺄셈 함수 포함한 모듈\n",
    "def add(a, b): \n",
    "    return a+b\n",
    "\n",
    "def sub(a, b): \n",
    "    return a-b\n",
    "\n",
    "# 다른 파이썬파일에서 모듈 불러올때 실행됨\n",
    "print(add(1, 4))\n",
    "print(sub(4, 2))"
   ]
  },
  {
   "cell_type": "code",
   "execution_count": null,
   "metadata": {},
   "outputs": [],
   "source": [
    "# 덧셈, 뺄셈 함수 포함한 모듈\n",
    "def add(a, b): \n",
    "    return a+b\n",
    "\n",
    "def sub(a, b): \n",
    "    return a-b\n",
    "\n",
    "# 다른파일에서 실행 방지\n",
    "if __name__ == \"__main__\":\n",
    "    print(add(1, 4))\n",
    "    print(sub(4, 2))\n",
    "\n",
    "# moduleName.py에서 실행시 __name__ == \"__main__\" : 참\n",
    "# 그 외의 파일에서 import되어 사용될때 __name__ == \"__main__\" : 거짓 (__name__ == \"__moduleName__\")"
   ]
  }
 ],
 "metadata": {
  "kernelspec": {
   "display_name": "Python 3.9.10 64-bit",
   "language": "python",
   "name": "python3"
  },
  "language_info": {
   "codemirror_mode": {
    "name": "ipython",
    "version": 3
   },
   "file_extension": ".py",
   "mimetype": "text/x-python",
   "name": "python",
   "nbconvert_exporter": "python",
   "pygments_lexer": "ipython3",
   "version": "3.9.10"
  },
  "orig_nbformat": 4,
  "vscode": {
   "interpreter": {
    "hash": "cf92aa13fedf815d5c8dd192b8d835913fde3e8bc926b2a0ad6cc74ef2ba3ca2"
   }
  }
 },
 "nbformat": 4,
 "nbformat_minor": 2
}
