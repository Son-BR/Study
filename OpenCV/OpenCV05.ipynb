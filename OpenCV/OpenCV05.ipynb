{
 "cells": [
  {
   "cell_type": "code",
   "execution_count": 1,
   "metadata": {},
   "outputs": [],
   "source": [
    "import cv2"
   ]
  },
  {
   "cell_type": "markdown",
   "metadata": {},
   "source": [
    "# 05. 대칭"
   ]
  },
  {
   "cell_type": "code",
   "execution_count": 3,
   "metadata": {},
   "outputs": [],
   "source": [
    "src = cv2.imread(\"Image/glass.jpg\", cv2.IMREAD_COLOR)\n",
    "\n",
    "# cv2.flip(image, 속성)\n",
    "# 속성 -> -1:상하좌우, 0:상하, 1:좌우\n",
    "dst = cv2.flip(src, 0)\n",
    "\n",
    "cv2.imshow(\"src\", src)\n",
    "cv2.imshow(\"dst\", dst)\n",
    "cv2.waitKey()\n",
    "cv2.destroyAllWindows()"
   ]
  },
  {
   "cell_type": "code",
   "execution_count": null,
   "metadata": {},
   "outputs": [],
   "source": []
  },
  {
   "cell_type": "markdown",
   "metadata": {},
   "source": [
    "# 06. 회전"
   ]
  },
  {
   "cell_type": "code",
   "execution_count": 15,
   "metadata": {},
   "outputs": [],
   "source": [
    "src = cv2.imread(\"Image/ara.jpg\", cv2.IMREAD_COLOR)\n",
    "\n",
    "height, width, channel = src.shape\n",
    "\n",
    "# cv2.getRotationMatrix2D(center(중심점), angle(각도), scale(비율))\n",
    "matrix = cv2.getRotationMatrix2D((width/2, height/2), 130, 1)\n",
    "\n",
    "# cv2.warpAffine(image, matrix(아핀맵행렬), (width, height)(출력이미지크기))\n",
    "dst = cv2.warpAffine(src, matrix, (width, height))\n",
    "\n",
    "cv2.imshow(\"src\", src)\n",
    "cv2.imshow(\"dst\", dst)\n",
    "cv2.waitKey()\n",
    "cv2.destroyAllWindows()"
   ]
  },
  {
   "cell_type": "code",
   "execution_count": 8,
   "metadata": {},
   "outputs": [],
   "source": []
  },
  {
   "cell_type": "markdown",
   "metadata": {},
   "source": [
    "# 07. 확대 & 축소"
   ]
  },
  {
   "cell_type": "code",
   "execution_count": 33,
   "metadata": {},
   "outputs": [],
   "source": [
    "src = cv2.imread(\"Image/fruits.jpg\", cv2.IMREAD_REDUCED_COLOR_4)\n",
    "height, width, channel = src.shape\n",
    "\n",
    "# cv2.pyrUp(image, dstSize(출력크기), borderType(테두리외삽법))\n",
    "dst = cv2.pyrUp(src, dstsize=(width * 2, height * 2), borderType=cv2.BORDER_DEFAULT)\n",
    "\n",
    "# 이미지 2배 축소(가로세로2배씩 -> 1/4사이즈)\n",
    "dst2 = cv2.pyrDown(src)\n",
    "\n",
    "cv2.imshow(\"src\", src)\n",
    "cv2.imshow(\"dst\", dst)\n",
    "cv2.imshow(\"dst2\", dst2)\n",
    "cv2.waitKey()\n",
    "cv2.destroyAllWindows()"
   ]
  },
  {
   "cell_type": "code",
   "execution_count": null,
   "metadata": {},
   "outputs": [],
   "source": [
    "# dstSize 조건\n",
    "# width, height 모두\n",
    "# |dstSize-원본길이*2| <= dstSize%2\n",
    "\n",
    "\n",
    "# borderType(테두리외삽법) : 이미지 영역 밖의 픽셀 추정법(외삽방식)\n",
    "\n",
    "# cv2.BORDER_CONSTANT\t    iiiiii | abcdefgh | iiiiiii\n",
    "# cv2.BORDER_REPLICATE\t    aaaaaa | abcdefgh | hhhhhhh\n",
    "# cv2.BORDER_REFLECT\t    fedcba | abcdefgh | hgfedcb\n",
    "# cv2.BORDER_WRAP\t        cdefgh | abcdefgh | abcdefg\n",
    "# cv2.BORDER_REFLECT_101\tgfedcb | abcdefgh | gfedcba\n",
    "# cv2.BORDER_REFLECT101\t    gfedcb | abcdefgh | gfedcba\n",
    "# cv2.BORDER_DEFAULT\t    gfedcb | abcdefgh | gfedcba\n",
    "# cv2.BORDER_TRANSPARENT\tuvwxyz | abcdefgh | ijklmno\n",
    "# cv2.BORDER_ISOLATED\t    관심 영역 (ROI) 밖은 고려하지 않음\n",
    "\n",
    "# cv2.pyrUp()는 BORDER_DEFAULT의 픽셀 외삽법만 사용 가능\n",
    "# cv2.pyrDown()는 BORDER_CONSTANT의 픽셀 외삽법을 제외한 나머지 플래그만 사용 가능\n"
   ]
  },
  {
   "cell_type": "code",
   "execution_count": null,
   "metadata": {},
   "outputs": [],
   "source": []
  },
  {
   "cell_type": "markdown",
   "metadata": {},
   "source": [
    "# 08. 크기 조절"
   ]
  },
  {
   "cell_type": "code",
   "execution_count": 34,
   "metadata": {},
   "outputs": [],
   "source": [
    "src = cv2.imread(\"Image/champagne.jpg\", cv2.IMREAD_COLOR)\n",
    "\n",
    "# cv2.resize(image, dstSize=절대크기, fx=상대x, fy=상대y, interpolation(보간법))\n",
    "# 상대크기 사용시 절대크기에 (0,0) 할당\n",
    "dst = cv2.resize(src, dsize=(640, 480), interpolation=cv2.INTER_AREA)\n",
    "dst2 = cv2.resize(src, dsize=(0, 0), fx=0.3, fy=0.7, interpolation=cv2.INTER_LINEAR)\n",
    "\n",
    "cv2.imshow(\"src\", src)\n",
    "cv2.imshow(\"dst\", dst)\n",
    "cv2.imshow(\"dst2\", dst2)\n",
    "cv2.waitKey()\n",
    "cv2.destroyAllWindows()"
   ]
  },
  {
   "cell_type": "code",
   "execution_count": null,
   "metadata": {},
   "outputs": [],
   "source": [
    "# interpolation(보간법)\n",
    "# cv2.INTER_NEAREST\t        이웃 보간법\n",
    "# cv2.INTER_LINEAR\t        쌍 선형 보간법         \n",
    "# cv2.INTER_LINEAR_EXACT\t비트 쌍 선형 보간법\n",
    "# cv2.INTER_CUBIC\t        바이큐빅 보간법      \n",
    "# cv2.INTER_AREA\t        영역 보간법          \n",
    "# cv2.INTER_LANCZOS4\t    Lanczos 보간법\n",
    "\n",
    "# 일반적으로 쌍 선형 보간법\n",
    "# 이미지를 확대하는 경우 : 바이큐빅 보간법, 쌍 선형 보간법\n",
    "# 이미지를 축소하는 경우 : 영역 보간법\n",
    "# 영역 보간법에서 이미지를 확대하는 경우, 이웃 보간법과 비슷한 결과를 반환"
   ]
  },
  {
   "cell_type": "code",
   "execution_count": null,
   "metadata": {},
   "outputs": [],
   "source": []
  },
  {
   "cell_type": "markdown",
   "metadata": {},
   "source": [
    "# 09. 자르기"
   ]
  },
  {
   "cell_type": "code",
   "execution_count": 42,
   "metadata": {},
   "outputs": [],
   "source": [
    "src = cv2.imread(\"Image/pawns.jpg\", cv2.IMREAD_REDUCED_COLOR_2)\n",
    "\n",
    "# 얕은복사(dst = src): 원본에도 영향\n",
    "# .copy()를 이용해 깊은 복사 진행\n",
    "dst = src[100:600, 200:700].copy()\n",
    "\n",
    "cv2.imshow(\"src\", src)\n",
    "cv2.imshow(\"dst\", dst)\n",
    "cv2.waitKey()\n",
    "cv2.destroyAllWindows()"
   ]
  },
  {
   "cell_type": "code",
   "execution_count": 43,
   "metadata": {},
   "outputs": [],
   "source": [
    "src = cv2.imread(\"Image/pawns.jpg\", cv2.IMREAD_REDUCED_COLOR_2)\n",
    "\n",
    "dst = src.copy() \n",
    "\n",
    "# roi 이미지 생성후 붙여넣기\n",
    "# 크기 같아야 함\n",
    "roi = src[100:600, 200:700]\n",
    "dst[0:500, 0:500] = roi\n",
    "\n",
    "cv2.imshow(\"src\", src)\n",
    "cv2.imshow(\"dst\", dst)\n",
    "cv2.waitKey()\n",
    "cv2.destroyAllWindows()"
   ]
  },
  {
   "cell_type": "code",
   "execution_count": null,
   "metadata": {},
   "outputs": [],
   "source": []
  }
 ],
 "metadata": {
  "kernelspec": {
   "display_name": "Python 3.9.13 ('conda3.9')",
   "language": "python",
   "name": "python3"
  },
  "language_info": {
   "codemirror_mode": {
    "name": "ipython",
    "version": 3
   },
   "file_extension": ".py",
   "mimetype": "text/x-python",
   "name": "python",
   "nbconvert_exporter": "python",
   "pygments_lexer": "ipython3",
   "version": "3.9.13"
  },
  "orig_nbformat": 4,
  "vscode": {
   "interpreter": {
    "hash": "0088ee2cbd7afdef503747ad15d8e9b92c4b3cb4dc2274aa1e35eb8b607389d9"
   }
  }
 },
 "nbformat": 4,
 "nbformat_minor": 2
}
