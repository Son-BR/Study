{
 "cells": [
  {
   "cell_type": "code",
   "execution_count": 1,
   "metadata": {},
   "outputs": [],
   "source": [
    "import numpy as np\n",
    "import cv2"
   ]
  },
  {
   "cell_type": "markdown",
   "metadata": {},
   "source": [
    "# 30. 이미지 연산(1)"
   ]
  },
  {
   "cell_type": "code",
   "execution_count": 13,
   "metadata": {},
   "outputs": [],
   "source": [
    "src = cv2.imread(\"Image/pencil.jpg\")\n",
    "\n",
    "# src와 같은 shape로 1로 채워진 배열 생성\n",
    "# 127:회색 이미지, 2: 검은색 이미지\n",
    "number1 = np.ones_like(src) * 127\n",
    "number2 = np.ones_like(src) * 2\n",
    "\n",
    "# 브로드 캐스팅이 적용돼 \n",
    "# number1 = 127\n",
    "# number2 = 2\n",
    "# 로 선언해도 연산 가능 [src.height, src.width, 1]형태\n",
    "# 원본 이미지의 첫 번째 채널에만 연산 진행됨\n",
    "\n",
    " \n",
    "# 덧셈\n",
    "add = cv2.add(src, number1)\n",
    "# 뺄셈\n",
    "sub = cv2.subtract(src, number1)\n",
    "# 곱셈\n",
    "mul = cv2.multiply(src, number2)\n",
    "# 나눗셈\n",
    "div = cv2.divide(src, number2)\n",
    "\n",
    "# 결과값 0보다 작으면 0, 255보다 크면 255로 반환\n",
    "# 대수적 표현(+, - 등)을 통해 연산을 진행하면, 오버플로우(Overflow)나 언더플로우(Underflow) 발생\n",
    "# 즉 0 - 1 = -1이 아닌, 255\n",
    "\n",
    "# 이미지 연결\n",
    "src = np.concatenate((src, src, src, src), axis = 1)\n",
    "number = np.concatenate((number1, number1, number2, number2), axis = 1)\n",
    "dst = np.concatenate((add, sub, mul, div), axis = 1)\n",
    "\n",
    "dst = np.concatenate((src, number, dst), axis = 0)\n",
    "\n",
    "dst=cv2.resize(dst, (0,0), fx=0.2, fy=0.2)\n",
    "\n",
    "cv2.imshow(\"dst\", dst)\n",
    "cv2.waitKey(0)\n",
    "cv2.destroyAllWindows()"
   ]
  },
  {
   "cell_type": "code",
   "execution_count": null,
   "metadata": {},
   "outputs": [],
   "source": []
  },
  {
   "cell_type": "markdown",
   "metadata": {},
   "source": [
    "# 31. 이미지 연산(2)"
   ]
  },
  {
   "cell_type": "code",
   "execution_count": 19,
   "metadata": {},
   "outputs": [],
   "source": [
    "src = cv2.imread(\"Image/pencil.jpg\")\n",
    "\n",
    "# 회색 이미지\n",
    "number = np.ones_like(src) * 127\n",
    "\n",
    "\n",
    "# 최댓값 함수와 최솟값 함수는 정밀도에 따라 요소의 최댓값과 최솟값이 있으며, 최댓값을 넘어가거나 최솟값보다 낮아질 수 없음\n",
    "\n",
    "# 최댓값\n",
    "_max = cv2.max(src, number)\n",
    "# 최솟값\n",
    "_min = cv2.min(src, number)\n",
    "\n",
    "# 절댓값 차이\n",
    "# 두 이미지의 요소별 절댓값 차이를 계산, 음수발생시 양수 형태로 반환(단순 연산은 0반환)\n",
    "_abs = cv2.absdiff(src, number)\n",
    "\n",
    "# 비교\n",
    "# 비교 결과가 True일 경우 요소의 값을 255로 변경하며, 비교 결과가 False일 경우 요소의 값을 0으로 변경\n",
    "compare = cv2.compare(src, number, cv2.CMP_GT)\n",
    "\n",
    "# 이미지 연결\n",
    "src = np.concatenate((src, src, src, src), axis = 1)\n",
    "number = np.concatenate((number, number, number, number), axis = 1)\n",
    "dst = np.concatenate((_max, _min, _abs, compare), axis = 1)\n",
    "\n",
    "dst = np.concatenate((src, number, dst), axis = 0)\n",
    "\n",
    "dst=cv2.resize(dst, (0,0), fx=0.2, fy=0.2)\n",
    "\n",
    "cv2.imshow(\"dst\", dst)\n",
    "cv2.waitKey(0)\n",
    "cv2.destroyAllWindows()"
   ]
  },
  {
   "cell_type": "code",
   "execution_count": null,
   "metadata": {},
   "outputs": [],
   "source": [
    "# 비교 함수 플래그\n",
    "# cv2.CMP_EQ\tsrc1와 src2의 요소가 같음\n",
    "# cv2.CMP_NE\tsrc1와 src2의 요소가 같지 않음\n",
    "# cv2.CMP_GT\tsrc1와 src2의 요소가 큼\n",
    "# cv2.CMP_GE\tsrc1와 src2의 요소가 크거나 같음\n",
    "# cv2.CMP_LT\tsrc1와 src2의 요소가 작음\n",
    "# cv2.CMP_LE\tsrc1와 src2의 요소가 작거나 같음"
   ]
  },
  {
   "cell_type": "code",
   "execution_count": null,
   "metadata": {},
   "outputs": [],
   "source": []
  },
  {
   "cell_type": "markdown",
   "metadata": {},
   "source": [
    "# 32. 비트 연산"
   ]
  },
  {
   "cell_type": "code",
   "execution_count": null,
   "metadata": {},
   "outputs": [],
   "source": [
    "# 비트 연산(Bitwise)\n",
    "# 두 이미지에 대해 비트 연산 수행\n",
    "# Numpy 클래스의 비트 연산과 동일한 의미와 결과\n",
    "# 비트 연산 표현(&, | 등)을 통해 Mat 클래스 간의 연산 수행 가능"
   ]
  },
  {
   "cell_type": "code",
   "execution_count": 23,
   "metadata": {},
   "outputs": [],
   "source": [
    "# 원본 이미지\n",
    "src = cv2.imread(\"Image/analysis.jpg\")\n",
    "\n",
    "# 그레이스케일(흑백)\n",
    "gray = cv2.cvtColor(src, cv2.COLOR_BGR2GRAY)\n",
    "\n",
    "# 이진화(임곗값(기준):127)\n",
    "# 반환: 임겟값, 이미지\n",
    "_, binary = cv2.threshold(gray, 127, 255, cv2.THRESH_BINARY)\n",
    "\n",
    "\n",
    "# 비트 연산\n",
    "\n",
    "# 논리곱\n",
    "_and = cv2.bitwise_and(gray, binary)\n",
    "# 논리합\n",
    "_or = cv2.bitwise_or(gray, binary)\n",
    "# 배타적 논리합\n",
    "_xor = cv2.bitwise_xor(gray, binary)\n",
    "# 부정\n",
    "_not = cv2.bitwise_not(gray)\n",
    "\n",
    "# 이미지 연결\n",
    "src = np.concatenate((np.zeros_like(gray), gray, binary, np.zeros_like(gray)), axis = 1)\n",
    "dst = np.concatenate((_and, _or, _xor, _not), axis = 1)\n",
    "dst = np.concatenate((src, dst), axis = 0)\n",
    "\n",
    "dst=cv2.resize(dst, (0,0), fx=0.2, fy=0.2)\n",
    "\n",
    "cv2.imshow(\"dst\", dst)\n",
    "cv2.waitKey(0)\n",
    "cv2.destroyAllWindows()"
   ]
  },
  {
   "cell_type": "code",
   "execution_count": null,
   "metadata": {},
   "outputs": [],
   "source": []
  }
 ],
 "metadata": {
  "kernelspec": {
   "display_name": "Python 3.8.13 ('torch_conda3.8')",
   "language": "python",
   "name": "python3"
  },
  "language_info": {
   "codemirror_mode": {
    "name": "ipython",
    "version": 3
   },
   "file_extension": ".py",
   "mimetype": "text/x-python",
   "name": "python",
   "nbconvert_exporter": "python",
   "pygments_lexer": "ipython3",
   "version": "3.8.13"
  },
  "orig_nbformat": 4,
  "vscode": {
   "interpreter": {
    "hash": "f98a42b8bc21e77715747c9bb39187f4c90456d6964ccc6a99ab4ed80b694914"
   }
  }
 },
 "nbformat": 4,
 "nbformat_minor": 2
}
