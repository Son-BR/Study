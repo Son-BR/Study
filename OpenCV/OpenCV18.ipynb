{
 "cells": [
  {
   "cell_type": "code",
   "execution_count": 1,
   "metadata": {},
   "outputs": [],
   "source": [
    "import cv2\n",
    "import numpy as np"
   ]
  },
  {
   "cell_type": "markdown",
   "metadata": {},
   "source": [
    "# 18. 도형 그리기\n",
    "### 선형 타입(Line Types)Permalink"
   ]
  },
  {
   "cell_type": "code",
   "execution_count": null,
   "metadata": {},
   "outputs": [],
   "source": [
    "# 브레젠험 알고리즘(Bresenham's algorithm)\n",
    "# 실수 연산을 하지 않고 정수 연산으로만 선을 그릴 수 있도록 개발된 알고리즘(픽셀값은 정수이기 때문)\n",
    "# 4 연결 방식 : 선분에 픽셀을 할당할 때 다음에 할당될 위치로 오른쪽, 왼쪽, 위쪽, 아래쪽 영역만 고려\n",
    "# 8 연결 방식 : 대각선 방향까지 추가돼 총 여덟 개의 위치를 고려\n",
    "\n",
    "# 안티 에일리어싱(Anti-Aliasing)\n",
    "# 영상 신호의 결함을 없애기 위한 기법\n",
    "# 이미지나 객체의 가장자리 부분에서 발생하는 계단 현상을 없애고 계단을 부드럽게 보이도록 하는 방식\n",
    "# 가우스 필터링을 사용하며, 넓은 선의 경우 항상 끝이 둥글게 그려짐"
   ]
  },
  {
   "cell_type": "markdown",
   "metadata": {},
   "source": [
    "### 비트 시프트(Bit Shift)"
   ]
  },
  {
   "cell_type": "code",
   "execution_count": null,
   "metadata": {},
   "outputs": [],
   "source": [
    "# 도형 그리기 함수에서 사용되는 값은 일반적으로 정숫값\n",
    "# 하지만 비트 시프트를 활용하면 소수점 이하의 값이 포함된 실숫값 좌표로도 도형 그리기 함수를 사용할 수 있음\n",
    "# 서브 픽셀(sub pixel) 정렬을 지원해서 소수점 이하 자릿수를 표현할 수 있게 함\n",
    "# 소수점은 도형 그리기 함수에서 표현할 수 없으므로 비트 시프트의 값으로 지정"
   ]
  },
  {
   "cell_type": "code",
   "execution_count": 30,
   "metadata": {},
   "outputs": [],
   "source": [
    "# 빈 화면(검은 화면) 만들기\n",
    "src = np.zeros((768, 1366, 3), dtype=np.uint8)\n",
    "\n",
    "# 직선 그리기\n",
    "# dst = cv2.line(img, 시작좌표, 도착좌표, 색, 두께, 선형타입, 비트시프트)\n",
    "src = cv2.line(src, (100, 100), (1200, 100), (0, 0, 255), 3, cv2.LINE_AA)\n",
    "\n",
    "# 원 그리기\n",
    "# dst = cv2.circle(img, 중심점, 반지름, 색, 두께, 선형타입, 비트시프트)\n",
    "src = cv2.circle(src, (300, 300), 50, (0, 255, 0), cv2.FILLED, cv2.LINE_4)\n",
    "\n",
    "# 사각형 그리기\n",
    "# dst = cv2.rectangle(img, 좌상좌표, 우하좌표, 색, 두께, 선형타입, 비트시프트)\n",
    "src = cv2.rectangle(src, (500, 200), (1000, 400), (255, 0, 0), 5, cv2.LINE_8)\n",
    "\n",
    "# 호 그리기\n",
    "# dst = cv2..ellipse(img, 중심점, (장축, 단축), 장축기울어진각도, 시작각도, 도착각도, 색, 두께, 비트시프트)\n",
    "src = cv2.ellipse(src, (1200, 300), (100, 100), 0, 90, 180, (255, 255, 0), 2)\n",
    "src = cv2.line(src, (1200, 300), (1200, 300), (0, 0, 255), 5, cv2.LINE_AA) # 중심점 위치\n",
    "\n",
    "# 다각형 그리기\n",
    "\n",
    "# 선들의 묶음\n",
    "pts1 = np.array([[100, 500], [300, 500], [200, 600]])\n",
    "pts2 = np.array([[600, 500], [800, 500], [700, 600]])\n",
    "\n",
    "# dst = cv2.polylines(img, 선들의묶음list, 닫힘여부, 색, 두께, 선형타입, 비트시프트)\n",
    "src = cv2.polylines(src, [pts1], True, (0, 255, 255), 2)\n",
    "\n",
    "# dst = cv2.illPoly(img, 선들의묶음list, 색, 선형타입, 비트시프트, 오프셋)\n",
    "src = cv2.fillPoly(src, [pts2], (255, 0, 255), cv2.LINE_AA)\n",
    "\n",
    "# 문자 그리기\n",
    "# dst = cv2.putText(src, str, 좌상좌표, 글꼴, 글자크기, 색, 두께, 선형타입, 기준좌표)\n",
    "# 기준좌표 True -> 좌하모서리를 기준으로\n",
    "src = cv2.putText(src, \"YUNDAEHEE\", (900, 600), cv2.FONT_HERSHEY_COMPLEX, 2, (255, 255, 255), 3)\n",
    "\n",
    "cv2.imshow(\"src\", src)\n",
    "cv2.waitKey()\n",
    "cv2.destroyAllWindows()"
   ]
  },
  {
   "cell_type": "code",
   "execution_count": null,
   "metadata": {},
   "outputs": [],
   "source": [
    "# 선형 타입 종류\n",
    "# cv2.FILLED\t  내부 채우기\n",
    "# cv2.LINE_4\t  4점 이웃 연결\n",
    "# cv2.LINE_8\t  8점 이웃 연결\n",
    "# cv2.LINE_AA\t  AntiAlias\n",
    "\n",
    "# 글꼴 종류\n",
    "\n",
    "# cv2.FONT_HERSHEY_PLAIN\t           작은 크기의 산세리프 글꼴\t  -\n",
    "# cv2.FONT_HERSHEY_SIMPLEX\t           보통 크기의 산세리프 글꼴\t  -\n",
    "# cv2.FONT_HERSHEY_DUPLEX\t           보통 크기의 산세리프 글꼴\t정교함\n",
    "# cv2.FONT_HERSHEY_COMPLEX\t           보통 크기의 세리프 글꼴\t      -\n",
    "# cv2.FONT_HERSHEY_TRIPLEX\t           보통 크기의 세리프 글꼴\t    정교함\n",
    "# cv2.FONT_HERSHEY_COMPLEX_SMALL\t   작은 크기의 손글씨 글꼴\t      -\n",
    "# cv2.FONT_HERSHEY_SCRIPT_SIMPLEX\t   보통 크기의 손글씨 글꼴\t      -\n",
    "# cv2.FONT_HERSHEY_SCRIPT_COMPLEX\t   보통 크기의 손글씨 글꼴\t    정교함\n",
    "# cv2.FONT_ITALIC\t                   기울임 꼴\t                -\n",
    "\n"
   ]
  },
  {
   "cell_type": "code",
   "execution_count": null,
   "metadata": {},
   "outputs": [],
   "source": []
  },
  {
   "cell_type": "markdown",
   "metadata": {},
   "source": [
    "# 19. 기하학적 변환"
   ]
  },
  {
   "cell_type": "code",
   "execution_count": null,
   "metadata": {},
   "outputs": [],
   "source": [
    "# 이미지를 인위적으로 확대, 축소, 위치 변경, 회전, 왜곡하는 등 이미지의 형태를 변환하는 것\n",
    "\n",
    "# 아핀 변환(Affine Transformation) : 2*3 행렬을 사용, 행렬 곱셈에 벡터 합을 활용해 표현할 수 있는 변환\n",
    "# 아핀 변환은 정확하게는 3×3 행렬 형태를 갖지만 행렬의 세 번째 행이 [0, 1, 1] 값을 가져 OpenCV에서는 표현하지 않음\n",
    "\n",
    "# 원근 변환(Perspective Transformation) : 3*3 행렬을 사용, 호모그래피(Homography)로 모델링할 수 있는 변환"
   ]
  },
  {
   "cell_type": "code",
   "execution_count": 42,
   "metadata": {},
   "outputs": [],
   "source": [
    "src = cv2.imread(\"Image/harvest.jpg\", cv2.IMREAD_REDUCED_COLOR_2)\n",
    "height, width, channel = src.shape\n",
    "\n",
    "# 원본 이미지의 픽셀 좌표 (좌상 우상 우하 좌하)\n",
    "srcPoint = np.array([[300, 200], [400, 200], [500, 500], [200, 500]], dtype=np.float32)\n",
    "\n",
    "# 변환 후 이미지의 필셀 좌표 (좌표 좌상 우상 우하 좌하)\n",
    "dstPoint = np.array([[0, 0], [width, 0], [width, height], [0, height]], dtype=np.float32)\n",
    "\n",
    "# --> 좌표의 순서 원본, 변환후 동일 해야함(다르면 비틀린(twist) 이미지)\n",
    "# 픽셀 좌표 배열은 정밀도(dtype)를 float32 형식으로 선언해야 사용 가능\n",
    "\n",
    "# 원근 맵 행렬 생성 함수\n",
    "matrix = cv2.getPerspectiveTransform(srcPoint, dstPoint)\n",
    "\n",
    "# 원근 변환 함수\n",
    "# dst = cv2.warpPerspective(img, 원근맵행렬, 출력이미지크기, dst, 보간법, 테두리외삽법, 테두리색)\n",
    "# param dst : 출력이미지 크기이고 img와 같은 유형의 출력이미지\n",
    "dst = cv2.warpPerspective(src, matrix, (width, height))\n",
    "\n",
    "cv2.imshow(\"dst\", dst)\n",
    "cv2.waitKey()\n",
    "cv2.destroyAllWindows()"
   ]
  },
  {
   "cell_type": "code",
   "execution_count": 43,
   "metadata": {},
   "outputs": [],
   "source": [
    "# srcPoint 확인\n",
    "src = cv2.imread(\"Image/harvest.jpg\", cv2.IMREAD_REDUCED_COLOR_2)\n",
    "src = cv2.line(src, (300, 200), (300, 200), (0, 0, 255), 5, cv2.LINE_AA)\n",
    "src = cv2.line(src, (400, 200), (400, 200), (0, 255, 255), 5, cv2.LINE_AA)\n",
    "src = cv2.line(src, (500, 500), (500, 500), (0, 0, 255), 5, cv2.LINE_AA)\n",
    "src = cv2.line(src, (200, 500), (200, 500), (0, 0, 255), 5, cv2.LINE_AA)\n",
    "\n",
    "cv2.imshow(\"dst\", src)\n",
    "cv2.waitKey()\n",
    "cv2.destroyAllWindows()"
   ]
  },
  {
   "cell_type": "code",
   "execution_count": null,
   "metadata": {},
   "outputs": [],
   "source": []
  },
  {
   "cell_type": "code",
   "execution_count": null,
   "metadata": {},
   "outputs": [],
   "source": []
  }
 ],
 "metadata": {
  "kernelspec": {
   "display_name": "Python 3.8.13 ('torch_conda3.8')",
   "language": "python",
   "name": "python3"
  },
  "language_info": {
   "codemirror_mode": {
    "name": "ipython",
    "version": 3
   },
   "file_extension": ".py",
   "mimetype": "text/x-python",
   "name": "python",
   "nbconvert_exporter": "python",
   "pygments_lexer": "ipython3",
   "version": "3.8.13"
  },
  "orig_nbformat": 4,
  "vscode": {
   "interpreter": {
    "hash": "f98a42b8bc21e77715747c9bb39187f4c90456d6964ccc6a99ab4ed80b694914"
   }
  }
 },
 "nbformat": 4,
 "nbformat_minor": 2
}
