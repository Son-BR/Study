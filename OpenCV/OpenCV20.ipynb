{
 "cells": [
  {
   "cell_type": "code",
   "execution_count": 1,
   "metadata": {},
   "outputs": [],
   "source": [
    "import datetime\n",
    "import cv2"
   ]
  },
  {
   "cell_type": "markdown",
   "metadata": {},
   "source": [
    "# 20. 캡쳐 및 녹화"
   ]
  },
  {
   "cell_type": "code",
   "execution_count": 2,
   "metadata": {},
   "outputs": [],
   "source": [
    "# 비디오(영상) 파일 열기\n",
    "capture = cv2.VideoCapture(\"./Image/Star.mp4\")\n",
    "\n",
    "# 디지털 미디어 포맷 코드 생성\n",
    "# cv2.VideoWriter_fourcc(*'코덱')\n",
    "# FourCC(Four Character Code) : 디지털 미디어 포맷 코드. 즉, 코덱의 인코딩 방식\n",
    "fourcc = cv2.VideoWriter_fourcc(*'XVID')\n",
    "\n",
    "# 녹화 유/무 설정 \n",
    "record = False\n",
    "\n",
    "while True:\n",
    "    if(capture.get(cv2.CAP_PROP_POS_FRAMES) == capture.get(cv2.CAP_PROP_FRAME_COUNT)):\n",
    "        capture.open(\"./Image/Star.mp4\")\n",
    "\n",
    "    ret, frame = capture.read()\n",
    "    cv2.imshow(\"VideoFrame\", frame)\n",
    "\n",
    "    # 현재 시간을 받아와 제목으로 사용\n",
    "    now = datetime.datetime.now().strftime(\"%d_%H-%M-%S\")\n",
    "    \n",
    "    # key값은 아스키 값\n",
    "    key = cv2.waitKey(33)\n",
    "\n",
    "    # 27=ESC\n",
    "    if key == 27: \n",
    "        break\n",
    "    \n",
    "    # 26 = Ctrl + Z\n",
    "    elif key == 26: \n",
    "        print(\"캡쳐\")\n",
    "        \n",
    "        # cv2.imwrite(\"경로 및 제목\", 이미지)\n",
    "        cv2.imwrite(\"./Image/Capture/\" + str(now) + \".png\", frame)\n",
    "    \n",
    "    # 24 = Ctrl + X\n",
    "    elif key == 24: \n",
    "        print(\"녹화 시작\")\n",
    "        record = True\n",
    "        \n",
    "        # cv2.VideoWriter(\"경로 및 제목\", 비디오 포맷 코드, FPS, (녹화 파일 너비, 녹화 파일 높이))\n",
    "        # FPS(Frame Per Second) : 영상이 바뀌는 속도(부드러움)\n",
    "        video = cv2.VideoWriter(\"./Image/Capture/\" + str(now) + \".avi\", fourcc, 20.0, (frame.shape[1], frame.shape[0]))\n",
    "    \n",
    "    # 3 = Ctrl + C\n",
    "    elif key == 3: \n",
    "        print(\"녹화 중지\")\n",
    "        record = False\n",
    "        \n",
    "        # 메모리 해제\n",
    "        video.release()\n",
    "        \n",
    "    if record == True:\n",
    "        print(\"녹화 중..\")\n",
    "        video.write(frame)\n",
    "\n",
    "capture.release()\n",
    "cv2.destroyAllWindows()"
   ]
  },
  {
   "cell_type": "code",
   "execution_count": null,
   "metadata": {},
   "outputs": [],
   "source": [
    "# FourCC 종류\n",
    "# CVID, Default, DIB, DIVX, H261, H263, H264, IV32, IV41, IV50,\n",
    "# IYUB, MJPG, MP42, MP43, MPG4, MSVC, PIM1, Prompt, XVID\n",
    "# 단일 채널 이미지의 경우 사용할 수 없는 디지털 미디어 포맷 코드가 존재"
   ]
  },
  {
   "cell_type": "code",
   "execution_count": null,
   "metadata": {},
   "outputs": [],
   "source": []
  }
 ],
 "metadata": {
  "kernelspec": {
   "display_name": "Python 3.8.13 ('torch_conda3.8')",
   "language": "python",
   "name": "python3"
  },
  "language_info": {
   "codemirror_mode": {
    "name": "ipython",
    "version": 3
   },
   "file_extension": ".py",
   "mimetype": "text/x-python",
   "name": "python",
   "nbconvert_exporter": "python",
   "pygments_lexer": "ipython3",
   "version": "3.8.13"
  },
  "orig_nbformat": 4,
  "vscode": {
   "interpreter": {
    "hash": "f98a42b8bc21e77715747c9bb39187f4c90456d6964ccc6a99ab4ed80b694914"
   }
  }
 },
 "nbformat": 4,
 "nbformat_minor": 2
}
