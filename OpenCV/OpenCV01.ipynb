{
 "cells": [
  {
   "cell_type": "markdown",
   "metadata": {},
   "source": [
    "# 01. OpenCV 설치"
   ]
  },
  {
   "cell_type": "code",
   "execution_count": 1,
   "metadata": {},
   "outputs": [
    {
     "name": "stdout",
     "output_type": "stream",
     "text": [
      "4.6.0\n"
     ]
    }
   ],
   "source": [
    "# pip install opencv-python\n",
    "import cv2\n",
    "print(cv2.__version__)"
   ]
  },
  {
   "cell_type": "code",
   "execution_count": null,
   "metadata": {},
   "outputs": [],
   "source": []
  },
  {
   "cell_type": "markdown",
   "metadata": {},
   "source": [
    "# 02. 카메라 출력"
   ]
  },
  {
   "cell_type": "code",
   "execution_count": 4,
   "metadata": {},
   "outputs": [],
   "source": [
    "capture = cv2.VideoCapture(0) # 카메라내장번호, 일반적으로 내장카메라:0\n",
    "\n",
    "# 넓이, 높이 변경\n",
    "# capture.set(propid(변경하려는 설정), value(값))\n",
    "capture.set(cv2.CAP_PROP_FRAME_WIDTH, 640)\n",
    "capture.set(cv2.CAP_PROP_FRAME_HEIGHT, 480)\n",
    "\n",
    "\n",
    "# 입력된 키의 아스키 코드 값을 반환\n",
    "# cv2.waitKey(delay) : delay지연시간(밀리초)\n",
    "# cv2.waitKey(33) : 지속적으로 키 입력 검사 \n",
    "# while cv2.waitKey(33) != ord('q') : 'q'입력될 때 종료\n",
    "while cv2.waitKey(33) < 0:\n",
    "    ret, frame = capture.read()\n",
    "    cv2.imshow(\"VideoFrame\", frame)\n",
    "\n",
    "# 카메라 장치에서 받아온 메모리를 해제\n",
    "capture.release()\n",
    "\n",
    "# 모든 윈도우창 제거\n",
    "cv2.destroyAllWindows()\n",
    "# cv2.destroyWindow(winname) : 특정윈도우창 제거"
   ]
  },
  {
   "cell_type": "code",
   "execution_count": null,
   "metadata": {},
   "outputs": [],
   "source": []
  },
  {
   "cell_type": "markdown",
   "metadata": {},
   "source": [
    "# 03. 이미지 출력"
   ]
  },
  {
   "cell_type": "code",
   "execution_count": 21,
   "metadata": {},
   "outputs": [],
   "source": [
    "image = cv2.imread(\"Image/lunar.jpg\", cv2.IMREAD_ANYCOLOR)\n",
    "\n",
    "# cv2.imshow(\"창이름\", image)\n",
    "cv2.imshow(\"Moon\", image)\n",
    "cv2.waitKey() # 생략시 윈도우창 바로 종료\n",
    "cv2.destroyAllWindows()"
   ]
  },
  {
   "cell_type": "code",
   "execution_count": 19,
   "metadata": {},
   "outputs": [],
   "source": [
    "# cv2.imread(파일경로, flags)\n",
    "\n",
    "# flags : 이미지의 초기상태\n",
    "# cv2.IMREAD_UNCHANGED : 원본 사용\n",
    "# cv2.IMREAD_GRAYSCALE : 1 채널, 그레이스케일 적용\n",
    "# cv2.IMREAD_COLOR : 3 채널, BGR 이미지 사용\n",
    "# cv2.IMREAD_ANYDEPTH : 이미지에 따라 정밀도를 16/32비트 또는 8비트로 사용\n",
    "# cv2.IMREAD_ANYCOLOR : 가능한 3 채널, 색상 이미지로 사용\n",
    "# cv2.IMREAD_REDUCED_GRAYSCALE_2 : 1 채널, 1/2 크기, 그레이스케일 적용\n",
    "# cv2.IMREAD_REDUCED_GRAYSCALE_4 : 1 채널, 1/4 크기, 그레이스케일 적용\n",
    "# cv2.IMREAD_REDUCED_GRAYSCALE_8 : 1 채널, 1/8 크기, 그레이스케일 적용\n",
    "# cv2.IMREAD_REDUCED_COLOR_2 : 3 채널, 1/2 크기, BGR 이미지 사용\n",
    "# cv2.IMREAD_REDUCED_COLOR_4 : 3 채널, 1/4 크기, BGR 이미지 사용\n",
    "# cv2.IMREAD_REDUCED_COLOR_8 : 3 채널, 1/8 크기, BGR 이미지 사용"
   ]
  },
  {
   "cell_type": "code",
   "execution_count": 22,
   "metadata": {},
   "outputs": [
    {
     "data": {
      "text/plain": [
       "(1280, 1920, 3)"
      ]
     },
     "execution_count": 22,
     "metadata": {},
     "output_type": "execute_result"
    }
   ],
   "source": [
    "# 이미지의 높이, 너비, 채널의 값 확인\n",
    "image.shape"
   ]
  },
  {
   "cell_type": "code",
   "execution_count": null,
   "metadata": {},
   "outputs": [],
   "source": []
  },
  {
   "cell_type": "markdown",
   "metadata": {},
   "source": [
    "# 04. 비디오 출력"
   ]
  },
  {
   "cell_type": "code",
   "execution_count": 23,
   "metadata": {},
   "outputs": [],
   "source": [
    "capture = cv2.VideoCapture(\"Image/Star.mp4\")\n",
    "\n",
    "while cv2.waitKey(33) < 0:\n",
    "    \n",
    "    # 현재프레임수=총프레임수 -> 마지막 프레임이라는 의미\n",
    "    # 마지막 프레임(동영상이 끝)이면 처음으로\n",
    "    if capture.get(cv2.CAP_PROP_POS_FRAMES) == capture.get(cv2.CAP_PROP_FRAME_COUNT):\n",
    "        capture.set(cv2.CAP_PROP_POS_FRAMES, 0)\n",
    "\n",
    "    ret, frame = capture.read()\n",
    "    cv2.imshow(\"VideoFrame\", frame)\n",
    "\n",
    "capture.release()\n",
    "cv2.destroyAllWindows()"
   ]
  },
  {
   "cell_type": "code",
   "execution_count": null,
   "metadata": {},
   "outputs": [],
   "source": [
    "# VideoCapture 메서드\n",
    "\n",
    "# capture.isOpened()\t        동영상 파일 열기 성공 여부 확인\n",
    "# capture.open(filename)\t    동영상 파일 열기\n",
    "# capture.set(propid, value)\t동영상 속성 설정\n",
    "# capture.get(propid)\t        동영상 속성 반환\n",
    "# capture.release()\t            동영상 파일을 닫고 메모리 해제\n",
    "\n",
    "\n",
    "# VideoCapture 속성\n",
    "\n",
    "# cv2.CAP_PROP_FRAME_WIDTH\t 프레임의 너비\n",
    "# cv2.CAP_PROP_FRAME_HEIGHT\t 프레임의 높이\n",
    "# cv2.CAP_PROP_FRAME_COUNT\t 총 프레임 수\n",
    "# cv2.CAP_PROP_FPS\t         프레임 속도\n",
    "# cv2.CAP_PROP_FOURCC\t     코덱 코드\n",
    "# cv2.CAP_PROP_BRIGHTNESS\t 이미지 밝기\t        카메라만 해당\n",
    "# cv2.CAP_PROP_CONTRAST\t     이미지 대비\t        카메라만 해당\n",
    "# cv2.CAP_PROP_SATURATION\t 이미지 채도\t        카메라만 해당\n",
    "# cv2.CAP_PROP_HUE\t         이미지 색상\t        카메라만 해당\n",
    "# cv2.CAP_PROP_GAIN\t         이미지 게인\t        카메라만 해당\n",
    "# cv2.CAP_PROP_EXPOSURE\t     이미지 노출\t        카메라만 해당\n",
    "# cv2.CAP_PROP_POS_MSEC\t     프레임 재생 시간\t     ms 반환\n",
    "# cv2.CAP_PROP_POS_FRAMES\t 현재 프레임\t        프레임의 총 개수 미만\n",
    "# CAP_PROP_POS_AVI_RATIO\t 비디오 파일 상대 위치\t  0 = 시작, 1 = 끝"
   ]
  },
  {
   "cell_type": "code",
   "execution_count": null,
   "metadata": {},
   "outputs": [],
   "source": []
  },
  {
   "cell_type": "code",
   "execution_count": null,
   "metadata": {},
   "outputs": [],
   "source": []
  },
  {
   "cell_type": "code",
   "execution_count": null,
   "metadata": {},
   "outputs": [],
   "source": []
  }
 ],
 "metadata": {
  "kernelspec": {
   "display_name": "Python 3.8.13 ('torch_conda3.8')",
   "language": "python",
   "name": "python3"
  },
  "language_info": {
   "codemirror_mode": {
    "name": "ipython",
    "version": 3
   },
   "file_extension": ".py",
   "mimetype": "text/x-python",
   "name": "python",
   "nbconvert_exporter": "python",
   "pygments_lexer": "ipython3",
   "version": "3.8.13"
  },
  "orig_nbformat": 4,
  "vscode": {
   "interpreter": {
    "hash": "f98a42b8bc21e77715747c9bb39187f4c90456d6964ccc6a99ab4ed80b694914"
   }
  }
 },
 "nbformat": 4,
 "nbformat_minor": 2
}
