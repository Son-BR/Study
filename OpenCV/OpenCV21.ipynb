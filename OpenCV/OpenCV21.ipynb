{
 "cells": [
  {
   "cell_type": "code",
   "execution_count": 1,
   "metadata": {},
   "outputs": [],
   "source": [
    "import cv2\n",
    "import numpy as np"
   ]
  },
  {
   "cell_type": "markdown",
   "metadata": {},
   "source": [
    "# 21. 윤곽선 검출"
   ]
  },
  {
   "cell_type": "code",
   "execution_count": 27,
   "metadata": {},
   "outputs": [
    {
     "name": "stdout",
     "output_type": "stream",
     "text": [
      "0 [ 2 -1  1 -1]\n",
      "1 [-1 -1 -1  0]\n",
      "2 [ 4  0  3 -1]\n",
      "3 [-1 -1 -1  2]\n",
      "4 [ 7  2  5 -1]\n",
      "5 [ 6 -1 -1  4]\n",
      "6 [-1  5 -1  4]\n",
      "7 [ 9  4  8 -1]\n",
      "8 [-1 -1 -1  7]\n",
      "9 [16  7 10 -1]\n",
      "10 [11 -1 -1  9]\n",
      "11 [12 10 -1  9]\n",
      "12 [13 11 -1  9]\n",
      "13 [14 12 -1  9]\n",
      "14 [15 13 -1  9]\n",
      "15 [-1 14 -1  9]\n",
      "16 [21  9 17 -1]\n",
      "17 [18 -1 -1 16]\n",
      "18 [19 17 -1 16]\n",
      "19 [20 18 -1 16]\n",
      "20 [-1 19 -1 16]\n",
      "21 [28 16 22 -1]\n",
      "22 [23 -1 -1 21]\n",
      "23 [24 22 -1 21]\n",
      "24 [25 23 -1 21]\n",
      "25 [26 24 -1 21]\n",
      "26 [27 25 -1 21]\n",
      "27 [-1 26 -1 21]\n",
      "28 [-1 21 -1 -1]\n"
     ]
    }
   ],
   "source": [
    "src = cv2.imread(\"Image/contours.png\", cv2.IMREAD_COLOR)\n",
    "\n",
    "# 윤곽선(컨투어) 검출은 하약색의 객체를 검출\n",
    "# 그러므로 배경은 검은색, 물체는 하얀색으로 변형\n",
    "# -> 이진화 처리 후, 반전시킴\n",
    "\n",
    "# 단일채널로 변형(흑백 처리)\n",
    "gray = cv2.cvtColor(src, cv2.COLOR_RGB2GRAY)\n",
    "\n",
    "# 이진화(127을 기준으로)\n",
    "ret, binary = cv2.threshold(gray, 127, 255, cv2.THRESH_BINARY)\n",
    "\n",
    "# 색 반전\n",
    "binary = cv2.bitwise_not(binary)\n",
    "\n",
    "# 윤곽선 검출\n",
    "# 윤곽선, 계층구조 = cv2.findContours(이진화 이미지, 검색 방법, 근사화 방법)\n",
    "# 윤곽선 : numpy 구조의 배열, 검출된 윤곽선의 지점(좌표)\n",
    "# 계층구조 : 윤곽선의 계층 구조, 각 윤곽선에 해당하는 속성 정보\n",
    "contours, hierarchy = cv2.findContours(binary, cv2.RETR_CCOMP, cv2.CHAIN_APPROX_NONE)\n",
    "\n",
    "for i in range(len(contours)):\n",
    "    \n",
    "    # 윤곽선 그리기\n",
    "    # cv2.drawContours(이미지, [윤곽선], 윤곽선 인덱스, (B, G, R), 두께, 선형 타입)\n",
    "    # 윤곽선 인덱스 : 검출된 윤곽선 배열에서 몇 번째 인덱스의 윤곽선을 그릴지\n",
    "    # 윤곽선 인수를 대괄호로 다시 묶을 경우, 0 번째 인덱스가 최댓값인 배열로 변경\n",
    "    # 동일한 방식으로 [윤곽선], 0과 윤곽선, -1은 동일한 의미를 갖습니다. (-1은 윤곽선 배열 모두를 의미)\n",
    "    cv2.drawContours(src, [contours[i]], 0, (0, 0, 255), 2)\n",
    "    \n",
    "    # 문자 그리기\n",
    "    cv2.putText(src, str(i), tuple(contours[i][0][0]), cv2.FONT_HERSHEY_COMPLEX, 0.8, (0, 255, 0), 1)\n",
    "    \n",
    "    # 계층구조 출력\n",
    "    print(i, hierarchy[0][i])\n",
    "    \n",
    "    cv2.imshow(\"src\", src)\n",
    "    cv2.waitKey(0)\n",
    "\n",
    "cv2.destroyAllWindows()"
   ]
  },
  {
   "cell_type": "code",
   "execution_count": 30,
   "metadata": {},
   "outputs": [
    {
     "data": {
      "text/plain": [
       "array([ 2, -1,  1, -1], dtype=int32)"
      ]
     },
     "execution_count": 30,
     "metadata": {},
     "output_type": "execute_result"
    }
   ],
   "source": [
    "# 검색방법\n",
    "# cv2.RETR_EXTERNAL : 외곽 윤곽선만 검출하며, 계층 구조를 구성하지 않습니다.\n",
    "# cv2.RETR_LIST : 모든 윤곽선을 검출하며, 계층 구조를 구성하지 않습니다.\n",
    "# cv2.RETR_CCOMP : 모든 윤곽선을 검출하며, 계층 구조는 2단계로 구성합니다.\n",
    "# cv2.RETR_TREE : 모든 윤곽선을 검출하며, 계층 구조를 모두 형성합니다. (Tree 구조)\n",
    "\n",
    "# 근사화 방법\n",
    "# cv2.CHAIN_APPROX_NONE : 윤곽점들의 모든 점을 반환합니다.\n",
    "# cv2.CHAIN_APPROX_SIMPLE : 윤곽점들 단순화 수평, 수직 및 대각선 요소를 압축하고 끝점만 남겨 둡니다.\n",
    "# cv2.CHAIN_APPROX_TC89_L1 : 프리먼 체인 코드에서의 윤곽선으로 적용합니다.\n",
    "# cv2.CHAIN_APPROX_TC89_KCOS : 프리먼 체인 코드에서의 윤곽선으로 적용합니다.\n",
    "\n",
    "# 계층구조\n",
    "# 계층 구조는 윤곽선을 포함 관계의 여부를 나타냅니다.\n",
    "# 즉, 외곽 윤곽선, 내곽 윤곽선, 같은 계층 구조를 구별할 수 있습니다.\n",
    "# 이 정보는 hierarchy에 담겨있습니다.\n",
    "hierarchy[0][0]"
   ]
  },
  {
   "cell_type": "code",
   "execution_count": null,
   "metadata": {},
   "outputs": [],
   "source": [
    "# [다음 윤곽선, 이전 윤곽선, 내곽 윤곽선, 외곽 윤곽선]의 인덱스 정보\n",
    "# 다음윤곽선:인덱스2, 이전윤곽선:없음, 내곽윤곽선:인덱스1, 외곽윤곽선:없음\n",
    "# -1: 존재하지 않음\n",
    "\n",
    "# 해당 예제는 cv2.RETR_CCOMP로 2 단계 계층 구조로만 표시\n",
    "# 계층 구조를 사용하여 내곽, 외곽 윤곽선을 구분"
   ]
  },
  {
   "cell_type": "code",
   "execution_count": 33,
   "metadata": {},
   "outputs": [
    {
     "name": "stdout",
     "output_type": "stream",
     "text": [
      "[ 2 -1  1 -1]\n",
      "[-1 -1 -1  0]\n",
      "[ 4  0  3 -1]\n"
     ]
    }
   ],
   "source": [
    "print(hierarchy[0][0])\n",
    "print(hierarchy[0][1])\n",
    "print(hierarchy[0][2])"
   ]
  },
  {
   "cell_type": "code",
   "execution_count": null,
   "metadata": {},
   "outputs": [],
   "source": []
  },
  {
   "cell_type": "markdown",
   "metadata": {},
   "source": [
    "# 22. 다각형 근사"
   ]
  },
  {
   "cell_type": "code",
   "execution_count": 35,
   "metadata": {},
   "outputs": [],
   "source": [
    "src = cv2.imread(\"Image/phone.jpg\", cv2.IMREAD_REDUCED_COLOR_2)\n",
    "\n",
    "# 단일채널(흑백)\n",
    "gray = cv2.cvtColor(src, cv2.COLOR_RGB2GRAY)\n",
    "# 이진화\n",
    "ret, binary = cv2.threshold(gray, 0, 255, cv2.THRESH_OTSU)\n",
    "# 반전\n",
    "binary = cv2.bitwise_not(binary)\n",
    "\n",
    "# 외곽선 검출\n",
    "contours, hierarchy = cv2.findContours(binary, cv2.RETR_LIST, cv2.CHAIN_APPROX_TC89_KCOS)\n",
    "\n",
    "# 색인값과 하위 윤곽선 정보 반복\n",
    "for contour in contours:\n",
    "    \n",
    "    # cv2.arcLength(윤곽선, 폐곡선)\n",
    "    # 윤곽선 : 검출된 윤곽선들이 저장된 Numpy 배열\n",
    "    # 폐곡선 : 검출된 윤곽선이 닫혀있는지, 열려있는지 설정(True:윤곽선닫힘, 최종길이 길어짐(끝점 연결))\n",
    "    # 근사치 정확도를 계산하기 위해 윤곽선 전체 길이의 2%로 활용\n",
    "    epsilon = cv2.arcLength(contour, True) * 0.02\n",
    "    \n",
    "    # 윤곽선들의 윤곽점들로 근사해 근사 다각형으로 반환\n",
    "    # cv2.approxPolyDP(윤곽선, 근사치 정확도, 폐곡선)\n",
    "    # 근사치 정확도 : 입력된 다각형(윤곽선)과 반환될 근사화된 다각형 사이의 최대 편차 간격, 값이 낮을 수록 근사를 적게 함(원본과 유사)\n",
    "    approx_poly = cv2.approxPolyDP(contour, epsilon, True)\n",
    "\n",
    "    # 이미지 위에 표시\n",
    "    for approx in approx_poly:\n",
    "        cv2.circle(src, tuple(approx[0]), 3, (255, 0, 0), -1)\n",
    "\n",
    "cv2.imshow(\"src\", src)\n",
    "cv2.waitKey(0)\n",
    "cv2.destroyAllWindows()"
   ]
  },
  {
   "cell_type": "code",
   "execution_count": null,
   "metadata": {},
   "outputs": [],
   "source": [
    "# 다각형 근사는 더글라스-패커(Douglas-Peucker) 알고리즘을 사용\n",
    "# 더글라스-패커 알고리즘은 근사치 정확도(epsilon)의 값으로 기존의 다각형과 윤곽점이 압축된 다각형의 최대 편차를 고려해 다각형을 근사\n",
    "# 반복과 끝점을 이용해 선분으로 구성된 윤곽선들을 더 적은 수의 윤곽점으로 동일하거나 비슷한 윤곽선으로 데시메이트(decimate)함\n",
    "# 데시메이트 : 일정 간격으로 샘플링된 데이터를 기존 간격보다 더 큰 샘플링 간격으로 다시 샘플링하는 것"
   ]
  },
  {
   "cell_type": "code",
   "execution_count": null,
   "metadata": {},
   "outputs": [],
   "source": []
  },
  {
   "cell_type": "markdown",
   "metadata": {},
   "source": [
    "# 23. 코너 검출"
   ]
  },
  {
   "cell_type": "code",
   "execution_count": 17,
   "metadata": {},
   "outputs": [],
   "source": [
    "src = cv2.imread(\"Image/coffee.jpg\", cv2.IMREAD_REDUCED_COLOR_2)\n",
    "dst = src.copy()\n",
    "\n",
    "# 흑백이미지화\n",
    "gray = cv2.cvtColor(src, cv2.COLOR_RGB2GRAY)\n",
    "\n",
    "# 코너 검출\n",
    "# cv2.goodFeaturesToTrack(흑백 이미지, 코너 수 최댓값, 코너 최소 품질(0~1), 코너 간 최소 거리, 마스크(코너검출할공간), 블록(주변영역) 크기, 해리스 코너 검출기 유/무, 해리스 코너 계수)\n",
    "corners = cv2.goodFeaturesToTrack(gray, 100, 0.01, 5, blockSize=3, useHarrisDetector=True, k=0.03)\n",
    "\n",
    "# 검출한 코너 좌표 정수로 변환\n",
    "corners = corners.astype(int)\n",
    "\n",
    "# 반복문을 통해 dst에 빨간색 원으로 코너 지점을 표시\n",
    "for i in corners:\n",
    "    cv2.circle(dst, tuple(i[0]), 3, (0, 0, 255), 2)\n",
    "\n",
    "cv2.imshow(\"dst\", dst)\n",
    "cv2.waitKey(0)\n",
    "cv2.destroyAllWindows()"
   ]
  },
  {
   "cell_type": "code",
   "execution_count": null,
   "metadata": {},
   "outputs": [],
   "source": []
  },
  {
   "cell_type": "markdown",
   "metadata": {},
   "source": [
    "# 24. 블록 껍질"
   ]
  },
  {
   "cell_type": "code",
   "execution_count": null,
   "metadata": {},
   "outputs": [],
   "source": [
    "# 윤곽선의 경계면을 둘러싸는 다각형을 구하는 알고리즘\n",
    "# 반환결과는 윤곽선 검출 결과와 동일한 형식\n",
    "# 스크랜스키(Sklansky) 알고리즘을 이용해 입력된 좌표들의 볼록한 외곽을 찾음"
   ]
  },
  {
   "cell_type": "code",
   "execution_count": 18,
   "metadata": {},
   "outputs": [],
   "source": [
    "src = cv2.imread(\"Image/convex.png\")\n",
    "dst = src.copy()\n",
    "\n",
    "# 흑백화\n",
    "gray = cv2.cvtColor(src, cv2.COLOR_RGB2GRAY)\n",
    "\n",
    "# 이진화\n",
    "ret, binary = cv2.threshold(gray, 150, 255, cv2.THRESH_BINARY_INV)\n",
    "\n",
    "# 윤곽선 검출\n",
    "contours, hierarchy = cv2.findContours(binary, cv2.RETR_CCOMP, cv2.CHAIN_APPROX_NONE)\n",
    "\n",
    "# 윤곽선에서 블록 껍질을 검출\n",
    "# 단일 형태에서만 검출 가능\n",
    "# cv2.convexHull(윤곽선, 방향) \n",
    "# 방향이 True면 시계방향, False면 반시계방향\n",
    "for i in contours:\n",
    "    hull = cv2.convexHull(i, clockwise=True)\n",
    "    cv2.drawContours(dst, [hull], 0, (0, 0, 255), 2)\n",
    "\n",
    "cv2.imshow(\"dst\", dst)\n",
    "cv2.waitKey(0)\n",
    "cv2.destroyAllWindows()"
   ]
  },
  {
   "cell_type": "code",
   "execution_count": null,
   "metadata": {},
   "outputs": [],
   "source": [
    "# 블록 껍질 검출은 스크랜스키(Sklansky) 알고리즘을 사용\n",
    "# 경계 사각형의 정점(Vertex)을 검출\n",
    "# 경계면을 둘러싸는 다각형은 경계 사각형 내부에 포함되며, 해당 정점을 볼록점으로 사용\n",
    "# 영역 내부에도 다양한 윤곽점들이 존재하므로 여기서 볼록 껍질을 이루는 볼록점들을 선별해서 선택"
   ]
  },
  {
   "cell_type": "code",
   "execution_count": null,
   "metadata": {},
   "outputs": [],
   "source": []
  },
  {
   "cell_type": "markdown",
   "metadata": {},
   "source": [
    "# 25. 모멘트(Moments)"
   ]
  },
  {
   "cell_type": "code",
   "execution_count": 19,
   "metadata": {},
   "outputs": [],
   "source": [
    "# 윤곽선(contour)이나 이미지(array)의 0차 모멘트부터 3차 모멘트까지 계산하는 알고리즘\n",
    "# 공간 모멘트(spatial moments), 중심 모멘트(central moments), 정규화된 중심 모멘트(normalized central moments), 질량 중심(mass center) 등 계산 가능"
   ]
  },
  {
   "cell_type": "code",
   "execution_count": 20,
   "metadata": {},
   "outputs": [],
   "source": [
    "src = cv2.imread(\"Image/convex.png\")\n",
    "dst = src.copy()\n",
    "\n",
    "# 단일 채널(흑백)\n",
    "gray = cv2.cvtColor(src, cv2.COLOR_RGB2GRAY)\n",
    "\n",
    "# 이진화\n",
    "ret, binary = cv2.threshold(gray, 150, 255, cv2.THRESH_BINARY_INV)\n",
    "\n",
    "# 윤곽선 검출\n",
    "contours, hierarchy = cv2.findContours(binary, cv2.RETR_CCOMP, cv2.CHAIN_APPROX_NONE)\n",
    "\n",
    "\n",
    "for i in contours:\n",
    "    \n",
    "    # 모멘트 계산\n",
    "    # cv2.moments(배열, 이진화 이미지)\n",
    "    # 배열 : 윤곽선 검출 함수에서 반환되는 구조, 이미지\n",
    "    # 이진화 이미지 : 입력된 배열 매개변수가 이미지일 경우, 이미지의 픽셀값들을 이진화 처리 할지 결정(참:0이아닌 픽셀값 모두 1로 변경)\n",
    "    # 모멘트 함수를 통해 면적, 평균, 분산 등을 간단하게 구할 수 있음\n",
    "    M = cv2.moments(i)\n",
    "    cX = int(M['m10'] / M['m00'])\n",
    "    cY = int(M['m01'] / M['m00'])\n",
    "    \n",
    "    cv2.circle(dst, (cX, cY), 3, (255, 0, 0), -1)\n",
    "    cv2.drawContours(dst, [i], 0, (0, 0, 255), 2)\n",
    "\n",
    "cv2.imshow(\"dst\", dst)\n",
    "cv2.waitKey(0)\n",
    "cv2.destroyAllWindows()"
   ]
  },
  {
   "cell_type": "code",
   "execution_count": null,
   "metadata": {},
   "outputs": [],
   "source": []
  }
 ],
 "metadata": {
  "kernelspec": {
   "display_name": "Python 3.8.13 ('torch_conda3.8')",
   "language": "python",
   "name": "python3"
  },
  "language_info": {
   "codemirror_mode": {
    "name": "ipython",
    "version": 3
   },
   "file_extension": ".py",
   "mimetype": "text/x-python",
   "name": "python",
   "nbconvert_exporter": "python",
   "pygments_lexer": "ipython3",
   "version": "3.8.13"
  },
  "orig_nbformat": 4,
  "vscode": {
   "interpreter": {
    "hash": "f98a42b8bc21e77715747c9bb39187f4c90456d6964ccc6a99ab4ed80b694914"
   }
  }
 },
 "nbformat": 4,
 "nbformat_minor": 2
}
