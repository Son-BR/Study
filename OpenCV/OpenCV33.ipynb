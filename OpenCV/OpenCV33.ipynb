{
 "cells": [
  {
   "cell_type": "code",
   "execution_count": 1,
   "metadata": {},
   "outputs": [],
   "source": [
    "import cv2\n",
    "import numpy as np"
   ]
  },
  {
   "cell_type": "markdown",
   "metadata": {},
   "source": [
    "# 33. 히스토그램"
   ]
  },
  {
   "cell_type": "code",
   "execution_count": null,
   "metadata": {},
   "outputs": [],
   "source": [
    "# 히스토그램(Histogram)\n",
    "# 도수 분포표 중 하나로 데이터의 분포를 몇 개의 구간으로 나누고 각 구간에 속하는 데이터를 시각적으로 표현한 막대그래프\n",
    "# X축: 픽셀의 값, Y축: 해당 픽셀의 개수\n",
    "# 이미지의 특성을 쉽게 확인\n",
    "\n",
    "# 히스토그램의 세가지 요소\n",
    "# 빈도 수(BINS): 히스토그램 그래프의 X축 간격\n",
    "# (예: 0~255범위에서 빈도수8: 0~7, 8~15,...,248~255 총 32개 막대)\n",
    "# 차원 수(DIMS): 히스토그램을 분석할 이미지의 차원\n",
    "# (예: 그래이스케일: 단일채널, 하나의 차원 / 색상 이미지: 다중 채널, 세 개 이상의 차원에 대해 분석 가능)\n",
    "# 범위(RANGE): 히스토그램 그래프의 X축 범위, 특정 픽셀값 영역에 대해서만 분석하게 하는 데 사용\n"
   ]
  },
  {
   "cell_type": "code",
   "execution_count": 4,
   "metadata": {},
   "outputs": [],
   "source": [
    "# 원본 이미지\n",
    "src = cv2.imread(\"Image/road2.jpg\")\n",
    "# 그레이스케일(흑백) 이미지\n",
    "gray = cv2.cvtColor(src, cv2.COLOR_BGR2GRAY)\n",
    "# 히스토그램 이미지(높이:원본높이, 너비:256분포)\n",
    "result = np.zeros((src.shape[0], 256), dtype=np.uint8)\n",
    "\n",
    "# 히스토그램\n",
    "# cv2.calcHist(연산 이미지, 특정 채널, 마스크, 히스토그램 크기, 히스토그램 범위)\n",
    "# 특정 채널 : 차원 수(DIMS)를 설정, 단일채널(그레이):0\n",
    "# 마스크 : 특정 영역에 대해서만 연산, 없으면 None\n",
    "# 히스토그램 크기 : 빈도 수(BINS)를 설정\n",
    "# 히스토그램 범위 : 범위(RANGE)를 설정\n",
    "hist = cv2.calcHist([gray], [0], None, [256], [0, 256])\n",
    "\n",
    "# 정규화 함수\n",
    "# cv2.normalize(입력 배열, 결과 배열, alpha, beta, 정규화 기준)\n",
    "# cv2.NORM_MINMAX : 최솟값이 alpha가 되고, 최댓값이 beta가 되게 변경\n",
    "cv2.normalize(hist, hist, 0, result.shape[0], cv2.NORM_MINMAX)\n",
    "\n",
    "# 결과 시각적으로 확인\n",
    "# hist값을 result에 표시\n",
    "for x, y in enumerate(hist):\n",
    "    cv2.line(result, (int(x), result.shape[0]), (int(x), result.shape[0] - int(y)), 255)\n",
    "\n",
    "# gray와 result는 이미지 높이가 같음 -> 병합 함수(np.hstack)로 이미지를 연결\n",
    "dst = np.hstack([gray, result])\n",
    "\n",
    "dst=cv2.resize(dst, (0,0), fx=0.5, fy=0.5)\n",
    "\n",
    "cv2.imshow(\"dst\", dst)\n",
    "cv2.waitKey(0)\n",
    "cv2.destroyAllWindows()"
   ]
  },
  {
   "cell_type": "code",
   "execution_count": null,
   "metadata": {},
   "outputs": [],
   "source": []
  },
  {
   "cell_type": "markdown",
   "metadata": {},
   "source": [
    "# 34. 픽셀 접근"
   ]
  },
  {
   "cell_type": "code",
   "execution_count": null,
   "metadata": {},
   "outputs": [],
   "source": [
    "# 픽셀 접근(Pixel Access)\n",
    "# 이미지 배열에서 특정 좌표에 대한 값을 받아오거나, 변경할 때 사용\n",
    "# Numpy 배열의 요소 접근 방식과 동일, 직접 값을 변경하거나 할당 가능\n",
    "# OpenCV의 Mat 클래스는 Numpy 배열을 사용하므로 슬라이싱을 사용 가능"
   ]
  },
  {
   "cell_type": "code",
   "execution_count": 6,
   "metadata": {},
   "outputs": [
    {
     "name": "stdout",
     "output_type": "stream",
     "text": [
      "85\n",
      "85\n",
      "[85  0 85]\n"
     ]
    }
   ],
   "source": [
    "# 회색 그라데이션 이미지\n",
    "# numpy의 등간격(numpy.linspace) 활용\n",
    "# 이미지 배열이 아니므로, 차원 변경(numpy.reshape) 함수를 활용해 단일 채널 이미지로 변경\n",
    "gray = np.linspace(0, 255, num=90000, endpoint=True, retstep=False, dtype=np.uint8).reshape(300, 300, 1)\n",
    "\n",
    "# 색상 그라데이션 이미지\n",
    "color = np.zeros((300, 300, 3), np.uint8)\n",
    "\n",
    "# Blue 채널의 0 ~ 150 행에 gray의 값을 할당\n",
    "color[0:150, :, 0] = gray[0:150, :, 0]\n",
    "# Red 채널의 150 ~ 300 열에 gray 값을 할당\n",
    "color[:, 150:300, 2] = gray[:, 150:300, 0]\n",
    "\n",
    "# 배열 접근법\n",
    "# 배열[행 시작:행 끝(:간격), 열 시작: 열 끝(:간격), 차원 시작:차원 끝(:간격)]\n",
    "x, y, c = 200, 100, 0\n",
    "access_gray = gray[y, x, c]\n",
    "access_color_blue = color[y, x, c]\n",
    "# 차원을 포함하지 않을 경우 : 모든 차원 반환(numpy배열)\n",
    "access_color = color[y, x]\n",
    "\n",
    "print(access_gray)\n",
    "print(access_color_blue)\n",
    "print(access_color)\n",
    "\n",
    "cv2.imshow(\"gray\", gray)\n",
    "cv2.imshow(\"color\", color)\n",
    "cv2.waitKey(0)\n",
    "cv2.destroyAllWindows()"
   ]
  },
  {
   "cell_type": "code",
   "execution_count": null,
   "metadata": {},
   "outputs": [],
   "source": []
  }
 ],
 "metadata": {
  "kernelspec": {
   "display_name": "Python 3.8.13 ('torch_conda3.8')",
   "language": "python",
   "name": "python3"
  },
  "language_info": {
   "codemirror_mode": {
    "name": "ipython",
    "version": 3
   },
   "file_extension": ".py",
   "mimetype": "text/x-python",
   "name": "python",
   "nbconvert_exporter": "python",
   "pygments_lexer": "ipython3",
   "version": "3.8.13"
  },
  "orig_nbformat": 4,
  "vscode": {
   "interpreter": {
    "hash": "f98a42b8bc21e77715747c9bb39187f4c90456d6964ccc6a99ab4ed80b694914"
   }
  }
 },
 "nbformat": 4,
 "nbformat_minor": 2
}
