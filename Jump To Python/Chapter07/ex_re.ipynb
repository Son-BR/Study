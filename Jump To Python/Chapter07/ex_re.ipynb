{
 "cells": [
  {
   "cell_type": "markdown",
   "metadata": {},
   "source": [
    "# 정규표현식(Regular Expressions)"
   ]
  },
  {
   "cell_type": "markdown",
   "metadata": {},
   "source": [
    "---\n",
    "## 메타 문자\n",
    " - 특별한 용도로 사용하는 문자\n",
    " - . ^ $ * + ? { } [ ] \\ | ( ) 등"
   ]
  },
  {
   "cell_type": "markdown",
   "metadata": {},
   "source": [
    "==================================================\n",
    "### 문자 클래스(character class) : [ ]\n",
    "의미 : \"[ ] 사이의 문자들과 매치\"  \n",
    "- 예시) [abc]라면 이 표현식의 의미는 \"a, b, c 중 한 개의 문자와 매치\"라는 뜻  \n",
    "- 'a','before':매치, 'dude':매치x\n",
    "\n",
    "[ ]사이에는 어떤 문자도 들어갈 수 있음  \n",
    "[ ]안의 하이픈(-) : 범위, [a-zA-Z]:알파벳 모두, [0-9]:숫자, [가-힣]:한글  \n",
    "[ ]안의 ^ : 반대(not), [^0-9]:숫자가 아닌 문자\n"
   ]
  },
  {
   "cell_type": "markdown",
   "metadata": {},
   "source": [
    "#### 자주 사용하는 문자 클래스\n",
    " - \\d : 숫자와 매치, [0-9]와 동일\n",
    " - \\D : 숫자가 아닌 것과 매치, [^0-9]와 동일\n",
    " - \\s : whitespace 문자와 매치, [ \\t\\n\\r\\f\\v]와 동일, 맨앞 빈칸:공백(스페이스)의미\n",
    " - \\w : 문자+숫자(alphanumeric)와 매치, [a-zA-Z0-9_]와 동일\n",
    " - \\W : 문자+숫자(alphanumeric)가 아닌 문자와 매치, [^a-zA-Z0-9_]와 동일"
   ]
  },
  {
   "cell_type": "markdown",
   "metadata": {},
   "source": [
    "==================================================\n",
    "### Dot(.)\n",
    "의미 : \\n을 제외한 모든 문자와 매치  \n",
    "(re.DOTALL 옵션을 주면 \\n 문자와도 매치)  \n",
    "a.b -> \"a + 모든문자 + b\"와 매치\n",
    "a[.]b -> a.b와 매치 [.]->문자그대로의 Dot(.)\n",
    "\n",
    "==================================================\n",
    "### 반복(*)\n",
    "ca*t -> 문자 a가 '0'부터 무한대까지 반복될 수 있음  \n",
    "ct, cat, caat,.....\n",
    "\n",
    "==================================================\n",
    "### 반복(+)\n",
    "ca+t -> 문자 a가 '1'부터 무한대까지 반복될 수 있음  \n",
    "cat, caat,..... ct(x)\n",
    "\n",
    "==================================================\n",
    "### 반복({m,n}, ?)\n",
    "{m} -> 반드시 m번 반복\n",
    "{m,n} -> m~n회 반복, {1,}->+, {0,}->*\n"
   ]
  },
  {
   "cell_type": "code",
   "execution_count": null,
   "metadata": {},
   "outputs": [],
   "source": []
  },
  {
   "cell_type": "code",
   "execution_count": null,
   "metadata": {},
   "outputs": [],
   "source": []
  },
  {
   "cell_type": "code",
   "execution_count": null,
   "metadata": {},
   "outputs": [],
   "source": []
  },
  {
   "cell_type": "code",
   "execution_count": null,
   "metadata": {},
   "outputs": [],
   "source": []
  },
  {
   "cell_type": "code",
   "execution_count": null,
   "metadata": {},
   "outputs": [],
   "source": []
  },
  {
   "cell_type": "code",
   "execution_count": null,
   "metadata": {},
   "outputs": [],
   "source": []
  },
  {
   "cell_type": "code",
   "execution_count": null,
   "metadata": {},
   "outputs": [],
   "source": []
  }
 ],
 "metadata": {
  "kernelspec": {
   "display_name": "Python 3.9.10 64-bit",
   "language": "python",
   "name": "python3"
  },
  "language_info": {
   "codemirror_mode": {
    "name": "ipython",
    "version": 3
   },
   "file_extension": ".py",
   "mimetype": "text/x-python",
   "name": "python",
   "nbconvert_exporter": "python",
   "pygments_lexer": "ipython3",
   "version": "3.9.10"
  },
  "orig_nbformat": 4,
  "vscode": {
   "interpreter": {
    "hash": "cf92aa13fedf815d5c8dd192b8d835913fde3e8bc926b2a0ad6cc74ef2ba3ca2"
   }
  }
 },
 "nbformat": 4,
 "nbformat_minor": 2
}
