{
 "cells": [
  {
   "cell_type": "code",
   "execution_count": 1,
   "metadata": {},
   "outputs": [],
   "source": [
    "import cv2"
   ]
  },
  {
   "cell_type": "markdown",
   "metadata": {},
   "source": [
    "# 35. 트랙 바"
   ]
  },
  {
   "cell_type": "code",
   "execution_count": null,
   "metadata": {},
   "outputs": [],
   "source": [
    "# 트랙 바(Track Bar)\n",
    "# 트랙 바란 스크롤 바의 하나로, 슬라이더 바의 형태\n",
    "# 일정 범위 내의 값을 변경할 때 사용\n",
    "# 적절한 임곗값을 찾거나 변경하기 위해 사용\n",
    "# OpenCV의 트랙 바는 생성된 윈도우 창에 트랙바를 부착해 사용"
   ]
  },
  {
   "cell_type": "code",
   "execution_count": 11,
   "metadata": {},
   "outputs": [],
   "source": [
    "# 콜백 함수(특별한 이벤트 처리X)\n",
    "def onChange(pos):\n",
    "    pass\n",
    "\n",
    "# 원본 이미지, 그레이 스케일\n",
    "src = cv2.imread(\"Image/cherryblossom.jpg\", cv2.IMREAD_GRAYSCALE)\n",
    "\n",
    "# 윈도우창 생성(트랙 바 부착 전)\n",
    "# cv2.namedWindow(\"윈도우 창 제목\") -> \"윈도우 창 제목\"은 변수와 같은 기능\n",
    "cv2.namedWindow(\"Trackbar Windows\")\n",
    "\n",
    "# 트랙 바 생성\n",
    "# cv2.createTrackbar(\"트랙 바 이름\", \"윈도우 창 제목\", 최솟값, 최댓값, 콜백 함수)\n",
    "# 트랙 바 이름: 트랙 바의 명칭, 변수와 같은 기능\n",
    "# 윈도우 창 제목: 트랙 바를 부착할 윈도우 창\n",
    "# 최솟값, 최댓값: 트랙 바를 조절할 때 사용할 최소/최대 값\n",
    "\n",
    "# 콜백 함수: 트랙 바의 바를 조절할 때 위치한 값을 전달\n",
    "# onChange 함수의 pos는 현재 발생한 트랙 바 값을 반환\n",
    "# 특별한 이벤트를 처리하지 않는다면, 함수의 반환값에 pass나 return를 사용하거나 lambda 함수로 아무 작업을 하지 않게 적용\n",
    "cv2.createTrackbar(\"threshold\", \"Trackbar Windows\", 0, 255, onChange)\n",
    "cv2.createTrackbar(\"maxValue\", \"Trackbar Windows\", 0, 255, lambda x : x)\n",
    "\n",
    "# 트랙 바의 (초기)값을 설정\n",
    "# cv2.setTrackbarPos(\"트랙 바 이름\", \"윈도우 창 제목\", 설정값)\n",
    "cv2.setTrackbarPos(\"threshold\", \"Trackbar Windows\", 127)\n",
    "cv2.setTrackbarPos(\"maxValue\", \"Trackbar Windows\", 255)\n",
    "\n",
    "# 트랙 바 변화에 의한 화면 갱신\n",
    "\n",
    "# 1ms마다 이벤트 감지\n",
    "# 'q'누르면 반복문 종료\n",
    "while cv2.waitKey(1) != ord('q'):\n",
    "\n",
    "    # 트랙 바 값 받기\n",
    "    # cv2.getTrackbarPos(\"트랙 바 이름\", \"윈도우 창 제목\")\n",
    "    # 다른 트랙 바 함수와는 다르게 값을 반환함\n",
    "    thresh = cv2.getTrackbarPos(\"threshold\", \"Trackbar Windows\")\n",
    "    maxval = cv2.getTrackbarPos(\"maxValue\", \"Trackbar Windows\")\n",
    "\n",
    "    # 반환된 값을 넣어 변경 적용\n",
    "    _, binary = cv2.threshold(src, thresh, maxval, cv2.THRESH_BINARY)\n",
    "\n",
    "    cv2.imshow(\"Trackbar Windows\", binary)\n",
    "\n",
    "cv2.destroyAllWindows()"
   ]
  },
  {
   "cell_type": "code",
   "execution_count": null,
   "metadata": {},
   "outputs": [],
   "source": []
  },
  {
   "cell_type": "code",
   "execution_count": null,
   "metadata": {},
   "outputs": [],
   "source": []
  },
  {
   "cell_type": "code",
   "execution_count": null,
   "metadata": {},
   "outputs": [],
   "source": []
  },
  {
   "cell_type": "code",
   "execution_count": null,
   "metadata": {},
   "outputs": [],
   "source": []
  },
  {
   "cell_type": "code",
   "execution_count": null,
   "metadata": {},
   "outputs": [],
   "source": []
  },
  {
   "cell_type": "code",
   "execution_count": null,
   "metadata": {},
   "outputs": [],
   "source": []
  },
  {
   "cell_type": "code",
   "execution_count": null,
   "metadata": {},
   "outputs": [],
   "source": []
  },
  {
   "cell_type": "code",
   "execution_count": null,
   "metadata": {},
   "outputs": [],
   "source": []
  }
 ],
 "metadata": {
  "kernelspec": {
   "display_name": "Python 3.8.13 ('torch_conda3.8')",
   "language": "python",
   "name": "python3"
  },
  "language_info": {
   "codemirror_mode": {
    "name": "ipython",
    "version": 3
   },
   "file_extension": ".py",
   "mimetype": "text/x-python",
   "name": "python",
   "nbconvert_exporter": "python",
   "pygments_lexer": "ipython3",
   "version": "3.8.13"
  },
  "orig_nbformat": 4,
  "vscode": {
   "interpreter": {
    "hash": "f98a42b8bc21e77715747c9bb39187f4c90456d6964ccc6a99ab4ed80b694914"
   }
  }
 },
 "nbformat": 4,
 "nbformat_minor": 2
}
