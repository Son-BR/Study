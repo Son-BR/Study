{
 "cells": [
  {
   "cell_type": "markdown",
   "metadata": {},
   "source": [
    "# 정규표현식(Regular Expressions)"
   ]
  },
  {
   "cell_type": "markdown",
   "metadata": {},
   "source": [
    "---\n",
    "## 메타 문자\n",
    " - 특별한 용도로 사용하는 문자\n",
    " - . ^ $ * + ? { } [ ] \\ | ( ) 등"
   ]
  },
  {
   "cell_type": "markdown",
   "metadata": {},
   "source": [
    "==================================================\n",
    "### 문자 클래스(character class) : [ ]\n",
    "의미 : \"[ ] 사이의 문자들과 매치\"  \n",
    "- 예시) [abc]라면 이 표현식의 의미는 \"a, b, c 중 한 개의 문자와 매치\"라는 뜻  \n",
    "- 'a','before':매치, 'dude':매치x\n",
    "\n",
    "[ ]사이에는 어떤 문자도 들어갈 수 있음  \n",
    "[ ]안의 하이픈(-) : 범위, [a-zA-Z]:알파벳 모두, [0-9]:숫자, [가-힣]:한글  \n",
    "[ ]안의 ^ : 반대(not), [^0-9]:숫자가 아닌 문자\n"
   ]
  },
  {
   "cell_type": "markdown",
   "metadata": {},
   "source": [
    "#### 자주 사용하는 문자 클래스\n",
    " - \\d : 숫자와 매치, [0-9]와 동일\n",
    " - \\D : 숫자가 아닌 것과 매치, [^0-9]와 동일\n",
    " - \\s : whitespace 문자와 매치, [ \\t\\n\\r\\f\\v]와 동일, 맨앞 빈칸:공백(스페이스)의미\n",
    " - \\w : 문자+숫자(alphanumeric)와 매치, [a-zA-Z0-9_]와 동일\n",
    " - \\W : 문자+숫자(alphanumeric)가 아닌 문자와 매치, [^a-zA-Z0-9_]와 동일"
   ]
  },
  {
   "cell_type": "markdown",
   "metadata": {},
   "source": [
    "==================================================\n",
    "### Dot(.)\n",
    "의미 : \\n을 제외한 모든 문자와 매치  \n",
    "(re.DOTALL 옵션을 주면 \\n 문자와도 매치)  \n",
    "a.b -> \"a + 모든문자 + b\"와 매치\n",
    "a[.]b -> a.b와 매치 [.]->문자그대로의 Dot(.)\n",
    "\n",
    "==================================================\n",
    "### 반복(*)\n",
    "ca*t -> 문자 a가 '0'부터 무한대까지 반복될 수 있음  \n",
    "ct, cat, caat,.....\n",
    "\n",
    "==================================================\n",
    "### 반복(+)\n",
    "ca+t -> 문자 a가 '1'부터 무한대까지 반복될 수 있음  \n",
    "cat, caat,..... ct(x)\n",
    "\n",
    "==================================================\n",
    "### 반복({m,n}, ?)\n",
    "{m} -> 반드시 m번 반복  \n",
    "{m,n} -> m~n회 반복, {1,}->+, {0,}->*  \n",
    "? -> 있거나 없음, = {0,1}  \n",
    "ca{m,n}t, ca?t\n",
    "\n"
   ]
  },
  {
   "cell_type": "markdown",
   "metadata": {},
   "source": [
    "---\n",
    "## re 모듈(regular expression)\n",
    "사용법\n",
    "```ts\n",
    "import re\n",
    "p=re.compile('ab*')\n",
    "```"
   ]
  },
  {
   "cell_type": "markdown",
   "metadata": {},
   "source": [
    "---\n",
    "## 정규식을 이용한 문자열 검색\n",
    "|Method|목적|\n",
    "|:--:|--|\n",
    "|match()|문자열의 처음부터 정규식과 매치되는지 조사|\n",
    "|search()|문자열 전체를 검색하여 정규식과 매치되는지 조사|\n",
    "|findall()|정규식과 매치되는 모든 문자열을 리스트로 반환|\n",
    "|finditer()|정규식과 매치되는 모든 문자열을 반복 가능한 객체로 반환|\n",
    "\n",
    " - match, search는 정규식과 매치될 때는 match 객체를 돌려주고, 매치되지 않을 때는 None을 반환\n"
   ]
  },
  {
   "cell_type": "code",
   "execution_count": 1,
   "metadata": {},
   "outputs": [],
   "source": [
    "import re\n",
    "p=re.compile('[a-z]+')"
   ]
  },
  {
   "cell_type": "markdown",
   "metadata": {},
   "source": [
    "==================================================\n",
    "### match() : 문자열의 처음부터 정규식과 매치되는지 조사"
   ]
  },
  {
   "cell_type": "code",
   "execution_count": 2,
   "metadata": {},
   "outputs": [
    {
     "name": "stdout",
     "output_type": "stream",
     "text": [
      "<re.Match object; span=(0, 6), match='python'>\n"
     ]
    }
   ],
   "source": [
    "# 정규식에 부합되므로 match 객체를 반환\n",
    "m = p.match(\"python\")\n",
    "print(m)"
   ]
  },
  {
   "cell_type": "code",
   "execution_count": 3,
   "metadata": {},
   "outputs": [
    {
     "name": "stdout",
     "output_type": "stream",
     "text": [
      "None\n"
     ]
    }
   ],
   "source": [
    "# 처음에 나오는 문자열이 3 -> None반환\n",
    "m = p.match(\"3 python\")\n",
    "print(m)"
   ]
  },
  {
   "cell_type": "markdown",
   "metadata": {},
   "source": [
    "#### 정규표현식의 일반적인 흐름\n",
    "\n",
    "> p = re.compile(정규표현식)  \n",
    "m = p.match( 'string goes here' )  \n",
    "if m:  \n",
    "　　print('Match found: ', m.group())  \n",
    "else:  \n",
    "　　print('No match')  \n",
    "\n",
    "-> match의 결괏값이 있을 때만 그다음 작업을 수행"
   ]
  },
  {
   "cell_type": "markdown",
   "metadata": {},
   "source": [
    "==================================================\n",
    "### search() : 문자열 전체를 검색하여 정규식과 매치되는지 조사\n"
   ]
  },
  {
   "cell_type": "code",
   "execution_count": 4,
   "metadata": {},
   "outputs": [
    {
     "name": "stdout",
     "output_type": "stream",
     "text": [
      "<re.Match object; span=(0, 6), match='python'>\n"
     ]
    }
   ],
   "source": [
    "m = p.search(\"python\")\n",
    "print(m)"
   ]
  },
  {
   "cell_type": "code",
   "execution_count": 5,
   "metadata": {},
   "outputs": [
    {
     "name": "stdout",
     "output_type": "stream",
     "text": [
      "<re.Match object; span=(2, 8), match='python'>\n"
     ]
    }
   ],
   "source": [
    "# 문자열 전체를 검색하기 때문에 \"3 \" 이후의 \"python\" 문자열과 매치\n",
    "m = p.search(\"3 python\")\n",
    "print(m)"
   ]
  },
  {
   "cell_type": "markdown",
   "metadata": {},
   "source": [
    "==================================================\n",
    "### findall() : 정규식과 매치되는 모든 문자열을 리스트로 반환"
   ]
  },
  {
   "cell_type": "code",
   "execution_count": 6,
   "metadata": {},
   "outputs": [
    {
     "name": "stdout",
     "output_type": "stream",
     "text": [
      "['life', 'is', 'too', 'short']\n"
     ]
    }
   ],
   "source": [
    "# 단어를 각각 [a-z]+ 정규식과 매치해서 리스트로 반환\n",
    "result = p.findall(\"life is too short\")\n",
    "print(result)"
   ]
  },
  {
   "cell_type": "markdown",
   "metadata": {},
   "source": [
    "==================================================\n",
    "### finditer() : 정규식과 매치되는 모든 문자열을 반복 가능한 객체로 반환"
   ]
  },
  {
   "cell_type": "code",
   "execution_count": 8,
   "metadata": {},
   "outputs": [
    {
     "name": "stdout",
     "output_type": "stream",
     "text": [
      "<callable_iterator object at 0x0000017A0D675400>\n",
      "<re.Match object; span=(0, 4), match='life'>\n",
      "<re.Match object; span=(5, 7), match='is'>\n",
      "<re.Match object; span=(8, 11), match='too'>\n",
      "<re.Match object; span=(12, 17), match='short'>\n"
     ]
    }
   ],
   "source": [
    "# 반복 가능한 객체(iterator object)를 반환\n",
    "# 반복 가능한 객체가 포함하는 각각의 요소는 match 객체\n",
    "result = p.finditer(\"life is too short\")\n",
    "print(result)\n",
    "\n",
    "for r in result: print(r)"
   ]
  },
  {
   "cell_type": "code",
   "execution_count": null,
   "metadata": {},
   "outputs": [],
   "source": []
  }
 ],
 "metadata": {
  "kernelspec": {
   "display_name": "Python 3.9.10 64-bit",
   "language": "python",
   "name": "python3"
  },
  "language_info": {
   "codemirror_mode": {
    "name": "ipython",
    "version": 3
   },
   "file_extension": ".py",
   "mimetype": "text/x-python",
   "name": "python",
   "nbconvert_exporter": "python",
   "pygments_lexer": "ipython3",
   "version": "3.9.10"
  },
  "orig_nbformat": 4,
  "vscode": {
   "interpreter": {
    "hash": "cf92aa13fedf815d5c8dd192b8d835913fde3e8bc926b2a0ad6cc74ef2ba3ca2"
   }
  }
 },
 "nbformat": 4,
 "nbformat_minor": 2
}
