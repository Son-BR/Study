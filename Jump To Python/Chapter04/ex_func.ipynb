{
 "cells": [
  {
   "cell_type": "markdown",
   "metadata": {},
   "source": [
    "# 함수"
   ]
  },
  {
   "cell_type": "markdown",
   "metadata": {},
   "source": [
    "---\n",
    "##### 함수의 구조\n",
    " - def 함수명(매개변수):  \n",
    "　수행할문장1  \n",
    "　수행할문장2  \n",
    "　....  \n",
    "　return 결과값  \n",
    "  \n",
    " - 입력값(매개변수)와 결과값은 없을수도 있음\n",
    " - 결과값이 있으면 언제나 하나(여러개일시 튜플로 반환)\n",
    " - return의 또 다른 쓰임새 : 함수 즉시 빠져나가기\n"
   ]
  },
  {
   "cell_type": "markdown",
   "metadata": {},
   "source": [
    "---\n",
    "### 매개변수와 인수\n",
    " - 매개변수(parameter)\n",
    " - 인수(arguments)"
   ]
  },
  {
   "cell_type": "code",
   "execution_count": 2,
   "metadata": {},
   "outputs": [
    {
     "data": {
      "text/plain": [
       "7"
      ]
     },
     "execution_count": 2,
     "metadata": {},
     "output_type": "execute_result"
    }
   ],
   "source": [
    "def add(a,b):   # a,b는 매개변수\n",
    "    return a+b\n",
    "\n",
    "add(3,4)        # 3,4는 인수"
   ]
  },
  {
   "cell_type": "markdown",
   "metadata": {},
   "source": [
    "---\n",
    "### 여러 개의 입력받을 받는 함수\n",
    " - 몇개가 입력될지 모를때(*args)\n",
    "   - def 함수명(*매개변수):  \n",
    "　수행할문장...\n",
    "   - -> 매개변수 전부 모아서 튜플로 만들어줌\n",
    "\n",
    " - 키워드 파라미터 (**kwargs)\n",
    "  -  def 함수명(**매개변수):  \n",
    "　수행할문장...\n",
    "  - -> 매개변수 딕셔너리로 저장\n",
    "  - 예시)  \n",
    "  a=1 -> {'a':1}  \n",
    "  name='foo', age=3 -> {'age': 3, 'name': 'foo'}"
   ]
  },
  {
   "cell_type": "markdown",
   "metadata": {},
   "source": [
    "---\n",
    "### 매개변수에 초깃값 미리 설정하기\n",
    " - def 함수명(arg1,arg2,arg3=초기값):  \n",
    "　수행할문장...\n"
   ]
  },
  {
   "cell_type": "markdown",
   "metadata": {},
   "source": [
    "---\n",
    "### 함수 안에서 선언한 변수의 효력 범위\n",
    " - 함수 안에서 사용하는 매개변수는 함수 밖의 변수 이름와는 상관 X\n",
    "\n",
    "### 함수 안에서 함수 밖의 변수를 변경\n",
    " - return 사용하기\n",
    " - glbal 명령어 사용하기"
   ]
  },
  {
   "cell_type": "markdown",
   "metadata": {},
   "source": [
    "---\n",
    "### 람다(lambda) 함수\n",
    " - 함수 생성할때 사용하는 예약어, def와 동일한 역할\n",
    " - 함수를 한줄로 간결하게 만들때 사용\n",
    " - return 명령어가 없어도 결과값을 돌려줌\n",
    " - 형태 -> lambda arg1, arg2,...:표현식"
   ]
  },
  {
   "cell_type": "markdown",
   "metadata": {},
   "source": [
    "---\n",
    "### 입력:input()과 출력:print()\n",
    " - input()\n",
    "   - 프롬프트를 띄워 사용자 입력받기\n",
    "   - 입력되는 모든 것 문자열 취급\n",
    " - print()\n",
    "   - 큰따옴표(\")로 둘러싸인 문자열은 + 연산과 동일\n",
    "     - print(\"life\" \"is\" \"too short\") = print(\"life\"+\"is\"+\"too short\")\n",
    "   - 문자열 띄어쓰기는 콤마\n",
    "   - 기본 파라미터 : end='\\n'"
   ]
  },
  {
   "cell_type": "markdown",
   "metadata": {},
   "source": []
  }
 ],
 "metadata": {
  "kernelspec": {
   "display_name": "Python 3.9.10 64-bit",
   "language": "python",
   "name": "python3"
  },
  "language_info": {
   "codemirror_mode": {
    "name": "ipython",
    "version": 3
   },
   "file_extension": ".py",
   "mimetype": "text/x-python",
   "name": "python",
   "nbconvert_exporter": "python",
   "pygments_lexer": "ipython3",
   "version": "3.9.10"
  },
  "orig_nbformat": 4,
  "vscode": {
   "interpreter": {
    "hash": "cf92aa13fedf815d5c8dd192b8d835913fde3e8bc926b2a0ad6cc74ef2ba3ca2"
   }
  }
 },
 "nbformat": 4,
 "nbformat_minor": 2
}
