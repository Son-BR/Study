{
 "cells": [
  {
   "cell_type": "markdown",
   "metadata": {},
   "source": [
    "# III. 빅데이터 모델링\n",
    "\n",
    "## 02. 분석기법 적용\n",
    "---\n",
    "### 1.1 분석기법\n",
    "\n",
    "|KeyWord|회귀분석, 선형성, 독립성, 등분산성, 비상관성, 정상성, 최소제곱법, 회귀계수, 결정계수, F-통계량, 로지스틱회귀분석, 다중공선성|\n",
    "|:--:|--|\n",
    "\n",
    "============================================================\n",
    "#### 1) 회귀분석\n",
    "##### (1) 회귀 분석(Regression Analysis)\n",
    " - 1개 이상의 독립변수가 종속변수에 미치는 영향을 추정\n",
    "\n",
    "https://sy-log.tistory.com/23?category=992358"
   ]
  },
  {
   "cell_type": "markdown",
   "metadata": {},
   "source": []
  },
  {
   "cell_type": "markdown",
   "metadata": {},
   "source": []
  },
  {
   "cell_type": "markdown",
   "metadata": {},
   "source": []
  },
  {
   "cell_type": "markdown",
   "metadata": {},
   "source": []
  },
  {
   "cell_type": "markdown",
   "metadata": {},
   "source": []
  },
  {
   "cell_type": "markdown",
   "metadata": {},
   "source": [
    "# III. 빅데이터 모델링\n",
    "\n",
    "## 02. 분석기법 적용\n",
    "---\n",
    "### 1.1 분석기법\n",
    "\n",
    "|KeyWord|회귀분석, 선형성, 독립성, 등분산성, 비상관성, 정상성, 최소제곱법, 회귀계수, 결정계수, F-통계량, 로지스틱회귀분석, 다중공선성|\n",
    "|:--:|--|\n",
    "\n",
    "============================================================\n",
    "#### 1) 회귀분석\n",
    "##### (1) 회귀 분석(Regression Analysis)\n",
    "\n",
    "<img src=\"./Data/빅데이터_플랫폼.png\">\n",
    "<img src=\"./Data/빅데이터_플랫폼.png\"  width=\"400\" height=\"400\">"
   ]
  }
 ],
 "metadata": {
  "kernelspec": {
   "display_name": "Python 3.9.12 ('base')",
   "language": "python",
   "name": "python3"
  },
  "language_info": {
   "name": "python",
   "version": "3.9.12"
  },
  "orig_nbformat": 4,
  "vscode": {
   "interpreter": {
    "hash": "ad2bdc8ecc057115af97d19610ffacc2b4e99fae6737bb82f5d7fb13d2f2c186"
   }
  }
 },
 "nbformat": 4,
 "nbformat_minor": 2
}
