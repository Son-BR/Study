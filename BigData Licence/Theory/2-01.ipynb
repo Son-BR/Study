{
 "cells": [
  {
   "cell_type": "markdown",
   "metadata": {},
   "source": [
    "# II. 빅데이터 탐색\n",
    "\n",
    "## 01. 데이터 전처리\n",
    "---\n",
    "### 1.1 데이터 정제\n",
    "\n",
    "|KeyWord|데이터 전처리, 데이터 정제, 데이터 세분화, 결측값, 단순 대치법, 다중 대치법|\n",
    "|:--:|--|\n",
    "\n",
    "============================================================\n",
    "#### 1) 데이터 정제\n",
    "##### (1) 데이터 전처리의 중요성\n",
    "\n",
    "https://sy-log.tistory.com/12?category=992358"
   ]
  },
  {
   "cell_type": "markdown",
   "metadata": {},
   "source": []
  },
  {
   "cell_type": "markdown",
   "metadata": {},
   "source": []
  },
  {
   "cell_type": "markdown",
   "metadata": {},
   "source": []
  },
  {
   "cell_type": "markdown",
   "metadata": {},
   "source": []
  },
  {
   "cell_type": "markdown",
   "metadata": {},
   "source": []
  },
  {
   "cell_type": "markdown",
   "metadata": {},
   "source": []
  },
  {
   "cell_type": "markdown",
   "metadata": {},
   "source": []
  },
  {
   "cell_type": "markdown",
   "metadata": {},
   "source": []
  },
  {
   "cell_type": "markdown",
   "metadata": {},
   "source": []
  },
  {
   "cell_type": "markdown",
   "metadata": {},
   "source": [
    "# II. 빅데이터 탐색\n",
    "\n",
    "## 01. 데이터 전처리\n",
    "---\n",
    "### 1.1 데이터 정제\n",
    "\n",
    "|KeyWord|데이터 전처리, 데이터 정제, 데이터 세분화, 결측값, 단순 대치법, 다중 대치법|\n",
    "|:--:|--|\n",
    "\n",
    "============================================================\n",
    "#### 1) 데이터 정제\n",
    "##### (1) 데이터 전처리의 중요성\n",
    "\n",
    "<img src=\"./Data/DIKW_피라미드.png\">"
   ]
  },
  {
   "cell_type": "markdown",
   "metadata": {},
   "source": []
  }
 ],
 "metadata": {
  "kernelspec": {
   "display_name": "Python 3.9.13 ('base')",
   "language": "python",
   "name": "python3"
  },
  "language_info": {
   "name": "python",
   "version": "3.9.13"
  },
  "orig_nbformat": 4,
  "vscode": {
   "interpreter": {
    "hash": "ad2bdc8ecc057115af97d19610ffacc2b4e99fae6737bb82f5d7fb13d2f2c186"
   }
  }
 },
 "nbformat": 4,
 "nbformat_minor": 2
}
