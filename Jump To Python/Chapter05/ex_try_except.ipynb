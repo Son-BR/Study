{
 "cells": [
  {
   "cell_type": "markdown",
   "metadata": {},
   "source": [
    "# 예외처리"
   ]
  },
  {
   "cell_type": "markdown",
   "metadata": {},
   "source": [
    "## 오류 예외 처리 기법"
   ]
  },
  {
   "cell_type": "markdown",
   "metadata": {},
   "source": [
    "### try, except문\n",
    " - 형태\n",
    " try:  \n",
    " 　오류가 발생할수도 있는 코드  \n",
    " except [발생 오류[as 오류메시지 변수]]:  \n",
    " 　오류 발생시 수행할 코드\n",
    " - try, except만 써도 되고 발생오류, as 추가해도 됨\n",
    " \n",
    "---"
   ]
  },
  {
   "cell_type": "markdown",
   "metadata": {},
   "source": [
    "### try .. finally\n",
    " - finally절은 try문 수행 도중 예외 발생 여부에 상관없이 항상 수행\n",
    " - 주로 리소스 close해야할때 사용\n",
    " - 형태  \n",
    "try:  \n",
    "　수행코드\n",
    "finally:\n",
    "　f.close()  \n",
    "  \n",
    "---"
   ]
  },
  {
   "cell_type": "markdown",
   "metadata": {},
   "source": [
    "### 여러개의 오류 처리\n",
    "try:  \n",
    " 　오류가 발생할수도 있는 코드  \n",
    "  \n",
    "except 발생오류1:  \n",
    " 　오류1 발생시 수행할 코드\n",
    "except 발생오류2:  \n",
    " 　오류2 발생시 수행할 코드  \n",
    "   \n",
    " ---"
   ]
  },
  {
   "cell_type": "markdown",
   "metadata": {},
   "source": [
    "### try문에 else절\n",
    "try:  \n",
    "　오류가 발생할수도 있는 코드 \n",
    "   \n",
    "except 발생오류:  \n",
    "　오류 발생시 수행할 코드\n",
    "  \n",
    "else:  \n",
    "　오류 없을 경우에만 수행할 코드  \n",
    "  \n",
    "---"
   ]
  },
  {
   "cell_type": "markdown",
   "metadata": {},
   "source": [
    "### 오류 회피\n",
    "try:  \n",
    "　오류발생 코드  \n",
    "except 발생오류:  \n",
    "　pass  \n",
    "  \n",
    "---"
   ]
  },
  {
   "cell_type": "markdown",
   "metadata": {},
   "source": [
    "### 오류 일부러 발생시키기\n",
    " raise 발생오류\n",
    "  \n",
    "---"
   ]
  },
  {
   "cell_type": "markdown",
   "metadata": {},
   "source": [
    "### 예외 만들기\n",
    " - 파이썬 내장 클래스 Exception\n",
    " - 형태  \n",
    " class MyError(Exception):  \n",
    "　pass\n"
   ]
  }
 ],
 "metadata": {
  "kernelspec": {
   "display_name": "Python 3.9.10 64-bit",
   "language": "python",
   "name": "python3"
  },
  "language_info": {
   "name": "python",
   "version": "3.9.10"
  },
  "orig_nbformat": 4,
  "vscode": {
   "interpreter": {
    "hash": "cf92aa13fedf815d5c8dd192b8d835913fde3e8bc926b2a0ad6cc74ef2ba3ca2"
   }
  }
 },
 "nbformat": 4,
 "nbformat_minor": 2
}
