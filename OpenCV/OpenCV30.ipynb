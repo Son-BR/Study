{
 "cells": [
  {
   "cell_type": "code",
   "execution_count": 1,
   "metadata": {},
   "outputs": [],
   "source": [
    "import numpy as np\n",
    "import cv2"
   ]
  },
  {
   "cell_type": "markdown",
   "metadata": {},
   "source": [
    "# 30. 이미지 연산(1)"
   ]
  },
  {
   "cell_type": "code",
   "execution_count": 13,
   "metadata": {},
   "outputs": [],
   "source": [
    "src = cv2.imread(\"Image/pencil.jpg\")\n",
    "\n",
    "# src와 같은 shape로 1로 채워진 배열 생성\n",
    "# 127:회색 이미지, 2: 검은색 이미지\n",
    "number1 = np.ones_like(src) * 127\n",
    "number2 = np.ones_like(src) * 2\n",
    "\n",
    "# 브로드 캐스팅이 적용돼 \n",
    "# number1 = 127\n",
    "# number2 = 2\n",
    "# 로 선언해도 연산 가능 [src.height, src.width, 1]형태\n",
    "# 원본 이미지의 첫 번째 채널에만 연산 진행됨\n",
    "\n",
    " \n",
    "# 덧셈\n",
    "add = cv2.add(src, number1)\n",
    "# 뺄셈\n",
    "sub = cv2.subtract(src, number1)\n",
    "# 곱셈\n",
    "mul = cv2.multiply(src, number2)\n",
    "# 나눗셈\n",
    "div = cv2.divide(src, number2)\n",
    "\n",
    "# 결과값 0보다 작으면 0, 255보다 크면 255로 반환\n",
    "# 대수적 표현(+, - 등)을 통해 연산을 진행하면, 오버플로우(Overflow)나 언더플로우(Underflow) 발생\n",
    "# 즉 0 - 1 = -1이 아닌, 255\n",
    "\n",
    "# 이미지 연결\n",
    "src = np.concatenate((src, src, src, src), axis = 1)\n",
    "number = np.concatenate((number1, number1, number2, number2), axis = 1)\n",
    "dst = np.concatenate((add, sub, mul, div), axis = 1)\n",
    "\n",
    "dst = np.concatenate((src, number, dst), axis = 0)\n",
    "\n",
    "dst=cv2.resize(dst, (0,0), fx=0.2, fy=0.2)\n",
    "\n",
    "cv2.imshow(\"dst\", dst)\n",
    "cv2.waitKey(0)\n",
    "cv2.destroyAllWindows()"
   ]
  },
  {
   "cell_type": "code",
   "execution_count": null,
   "metadata": {},
   "outputs": [],
   "source": []
  },
  {
   "cell_type": "markdown",
   "metadata": {},
   "source": [
    "# 31. 이미지 연산(2)"
   ]
  },
  {
   "cell_type": "code",
   "execution_count": 16,
   "metadata": {},
   "outputs": [],
   "source": [
    "src = cv2.imread(\"Image/pencil.jpg\")\n",
    "number = np.ones_like(src) * 127\n",
    "\n",
    "_max = cv2.max(src, number)\n",
    "_min = cv2.min(src, number)\n",
    "_abs = cv2.absdiff(src, number)\n",
    "compare = cv2.compare(src, number, cv2.CMP_GT)\n",
    "\n",
    "src = np.concatenate((src, src, src, src), axis = 1)\n",
    "number = np.concatenate((number, number, number, number), axis = 1)\n",
    "dst = np.concatenate((_max, _min, _abs, compare), axis = 1)\n",
    "\n",
    "dst = np.concatenate((src, number, dst), axis = 0)\n",
    "\n",
    "dst=cv2.resize(dst, (0,0), fx=0.2, fy=0.2)\n",
    "\n",
    "cv2.imshow(\"dst\", dst)\n",
    "cv2.waitKey(0)\n",
    "cv2.destroyAllWindows()"
   ]
  },
  {
   "cell_type": "code",
   "execution_count": null,
   "metadata": {},
   "outputs": [],
   "source": []
  },
  {
   "cell_type": "code",
   "execution_count": null,
   "metadata": {},
   "outputs": [],
   "source": []
  },
  {
   "cell_type": "code",
   "execution_count": null,
   "metadata": {},
   "outputs": [],
   "source": []
  }
 ],
 "metadata": {
  "kernelspec": {
   "display_name": "Python 3.8.13 ('torch_conda3.8')",
   "language": "python",
   "name": "python3"
  },
  "language_info": {
   "codemirror_mode": {
    "name": "ipython",
    "version": 3
   },
   "file_extension": ".py",
   "mimetype": "text/x-python",
   "name": "python",
   "nbconvert_exporter": "python",
   "pygments_lexer": "ipython3",
   "version": "3.8.13"
  },
  "orig_nbformat": 4,
  "vscode": {
   "interpreter": {
    "hash": "f98a42b8bc21e77715747c9bb39187f4c90456d6964ccc6a99ab4ed80b694914"
   }
  }
 },
 "nbformat": 4,
 "nbformat_minor": 2
}
