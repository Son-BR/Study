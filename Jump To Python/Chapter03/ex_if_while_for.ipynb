{
 "cells": [
  {
   "cell_type": "markdown",
   "metadata": {},
   "source": [
    "# if문"
   ]
  },
  {
   "cell_type": "markdown",
   "metadata": {},
   "source": [
    "---\n",
    "##### if문 형태\n",
    " - if 조건문:  \n",
    "　수행할 문장1  \n",
    "　수행할 문장2  \n",
    "　수행할 문장3  \n",
    "　......"
   ]
  },
  {
   "cell_type": "markdown",
   "metadata": {},
   "source": [
    "\n",
    "##### 조건문 : 참과 거짓을 판단하는 문장\n",
    "---\n",
    "##### 비교연산자\n",
    " - x<y : x가 y보다 작다\n",
    " - x>y : x가 y보다 크다\n",
    " - x==y : x와 y가 같다\n",
    " - x!=y : x와 y가 다르다\n",
    " - x>=y : x가 y보다 크거나 같다\n",
    " - x<=y : x가 y보다 작거나 같다\n",
    " \n",
    "========================================\n",
    "##### and, or, not\n",
    " - x or y : 둘 중 하나만 참이어도 참\n",
    " - x and y : 모두 참이어야 참\n",
    " - not x : x가 거짓이면 참\n",
    "\n",
    "========================================\n",
    "##### x in s, x not in s : s -> 리스트, 튜플, 문자열\n",
    " - x in s : x가 s안에 있는가? 있으면 참, 없으면 거짓\n",
    " - x not in s : x 가 s안에 없는가? 없으면 참, 있으면 거짓\n",
    " \n",
    "========================================\n",
    "##### 조건문에서 아무일도 일어나지 않게 설정(pass)\n",
    " - 형태 -> if 조건문: pass"
   ]
  },
  {
   "cell_type": "code",
   "execution_count": null,
   "metadata": {},
   "outputs": [],
   "source": []
  },
  {
   "cell_type": "markdown",
   "metadata": {},
   "source": [
    "---\n",
    "##### elif\n",
    " - 이전 조건문이 거짓일 때 수행, 갯수 제한 x\n",
    " - 형태\n",
    " - if 조건문:  \n",
    " 　수행할 문장1  \n",
    " 　수행할 문장2  \n",
    " elif 조건문2:  \n",
    " 　수행할 문장1  \n",
    " 　수행할 문장n  \n",
    " elif 조건문n:  \n",
    " 　수행할 문장n  \n",
    "else:  \n",
    " 　수행할 문장n"
   ]
  },
  {
   "cell_type": "markdown",
   "metadata": {},
   "source": [
    "---\n",
    "##### 조건부 표현식\n",
    " - (조건문이 참인경우) if 조건문 (else 조건문이 거짓인경우)"
   ]
  },
  {
   "cell_type": "code",
   "execution_count": 3,
   "metadata": {},
   "outputs": [
    {
     "name": "stdout",
     "output_type": "stream",
     "text": [
      "success\n",
      "failure\n"
     ]
    }
   ],
   "source": [
    "score=70\n",
    "\n",
    "if score>=60:\n",
    "    massage='success'\n",
    "else:\n",
    "    massage='failure'\n",
    "\n",
    "print(massage)\n",
    "\n",
    "score=50\n",
    "massage='success' if score>=60 else 'failure'\n",
    "print(massage)\n"
   ]
  },
  {
   "cell_type": "code",
   "execution_count": null,
   "metadata": {},
   "outputs": [],
   "source": []
  },
  {
   "cell_type": "markdown",
   "metadata": {},
   "source": [
    "---\n",
    "# while문"
   ]
  },
  {
   "cell_type": "markdown",
   "metadata": {},
   "source": [
    "========================================\n",
    "##### while문 형태\n",
    "while 조건문:  \n",
    "　수행할 문장1  \n",
    "　수행할 문장2  \n",
    "　수행할 문장3  \n",
    "　...."
   ]
  },
  {
   "cell_type": "markdown",
   "metadata": {},
   "source": [
    "========================================\n",
    "##### while문 : 조건문이 참인 동안 while문 아래의 문장이 반복해서 수행\n",
    "\n",
    "##### while문 강제로 빠져나가기(break)\n",
    "\n",
    "##### while문 맨처음으로 돌아가기(continue)\n",
    "\n",
    "##### 무한루프\n",
    " - while True:\n",
    " - while 1:\n",
    " - while (참인값):\n",
    " - ......\n",
    "\n",
    " ========================================"
   ]
  },
  {
   "cell_type": "code",
   "execution_count": null,
   "metadata": {},
   "outputs": [],
   "source": []
  },
  {
   "cell_type": "markdown",
   "metadata": {},
   "source": [
    "---\n",
    "# for문"
   ]
  },
  {
   "cell_type": "markdown",
   "metadata": {},
   "source": [
    "##### for문 형태\n",
    " - for 변수 in 리스트(또는 튜플, 문자열):  \n",
    " 　수행할 문장1  \n",
    " 　수행할 문장2  \n",
    " 　......\n"
   ]
  },
  {
   "cell_type": "markdown",
   "metadata": {},
   "source": [
    "========================================\n",
    "##### for문 강제로 빠져나가기(break)\n",
    "\n",
    "##### for문 맨처음으로 돌아가기(continue)\n",
    "\n",
    "##### for i in range(10):\n",
    " - 0~9까지 반복"
   ]
  }
 ],
 "metadata": {
  "kernelspec": {
   "display_name": "Python 3.9.10 64-bit",
   "language": "python",
   "name": "python3"
  },
  "language_info": {
   "codemirror_mode": {
    "name": "ipython",
    "version": 3
   },
   "file_extension": ".py",
   "mimetype": "text/x-python",
   "name": "python",
   "nbconvert_exporter": "python",
   "pygments_lexer": "ipython3",
   "version": "3.9.10"
  },
  "orig_nbformat": 4,
  "vscode": {
   "interpreter": {
    "hash": "cf92aa13fedf815d5c8dd192b8d835913fde3e8bc926b2a0ad6cc74ef2ba3ca2"
   }
  }
 },
 "nbformat": 4,
 "nbformat_minor": 2
}
