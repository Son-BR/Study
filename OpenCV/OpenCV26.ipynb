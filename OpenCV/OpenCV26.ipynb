{
 "cells": [
  {
   "cell_type": "code",
   "execution_count": 2,
   "metadata": {},
   "outputs": [],
   "source": [
    "import numpy as np\n",
    "import cv2"
   ]
  },
  {
   "cell_type": "markdown",
   "metadata": {},
   "source": [
    "# 26. 모폴로지 변환"
   ]
  },
  {
   "cell_type": "code",
   "execution_count": 14,
   "metadata": {},
   "outputs": [
    {
     "ename": "error",
     "evalue": "OpenCV(4.6.0) D:\\a\\opencv-python\\opencv-python\\opencv\\modules\\imgproc\\src\\morph.dispatch.cpp:1022: error: (-215:Assertion failed) !src.empty() in function 'cv::dilate'\n",
     "output_type": "error",
     "traceback": [
      "\u001b[1;31m---------------------------------------------------------------------------\u001b[0m",
      "\u001b[1;31merror\u001b[0m                                     Traceback (most recent call last)",
      "\u001b[1;32mc:\\git\\WKIT\\Test\\OpenCV\\OpenCV26.ipynb 셀 3\u001b[0m in \u001b[0;36m<cell line: 14>\u001b[1;34m()\u001b[0m\n\u001b[0;32m      <a href='vscode-notebook-cell:/c%3A/git/WKIT/Test/OpenCV/OpenCV26.ipynb#W2sZmlsZQ%3D%3D?line=7'>8</a>\u001b[0m kernel \u001b[39m=\u001b[39m cv2\u001b[39m.\u001b[39mgetStructuringElement(cv2\u001b[39m.\u001b[39mMORPH_CROSS, (\u001b[39m9\u001b[39m, \u001b[39m9\u001b[39m))\n\u001b[0;32m     <a href='vscode-notebook-cell:/c%3A/git/WKIT/Test/OpenCV/OpenCV26.ipynb#W2sZmlsZQ%3D%3D?line=9'>10</a>\u001b[0m \u001b[39m# 모폴로지 변환(dilate:팽창, erode:침식)\u001b[39;00m\n\u001b[0;32m     <a href='vscode-notebook-cell:/c%3A/git/WKIT/Test/OpenCV/OpenCV26.ipynb#W2sZmlsZQ%3D%3D?line=10'>11</a>\u001b[0m \n\u001b[0;32m     <a href='vscode-notebook-cell:/c%3A/git/WKIT/Test/OpenCV/OpenCV26.ipynb#W2sZmlsZQ%3D%3D?line=11'>12</a>\u001b[0m \u001b[39m# 팽창 연산 : 밝은 영역이 커짐\u001b[39;00m\n\u001b[0;32m     <a href='vscode-notebook-cell:/c%3A/git/WKIT/Test/OpenCV/OpenCV26.ipynb#W2sZmlsZQ%3D%3D?line=12'>13</a>\u001b[0m \u001b[39m# cv2.dilate(원본 배열, 구조 요소, 고정점, 반복 횟수, 테두리 외삽법, 테두리 색상)\u001b[39;00m\n\u001b[1;32m---> <a href='vscode-notebook-cell:/c%3A/git/WKIT/Test/OpenCV/OpenCV26.ipynb#W2sZmlsZQ%3D%3D?line=13'>14</a>\u001b[0m dilate \u001b[39m=\u001b[39m cv2\u001b[39m.\u001b[39;49mdilate(src, kernel, anchor\u001b[39m=\u001b[39;49m(\u001b[39m-\u001b[39;49m\u001b[39m1\u001b[39;49m, \u001b[39m-\u001b[39;49m\u001b[39m1\u001b[39;49m), iterations\u001b[39m=\u001b[39;49m\u001b[39m5\u001b[39;49m, borderType\u001b[39m=\u001b[39;49mcv2\u001b[39m.\u001b[39;49mBORDER_CONSTANT)\n\u001b[0;32m     <a href='vscode-notebook-cell:/c%3A/git/WKIT/Test/OpenCV/OpenCV26.ipynb#W2sZmlsZQ%3D%3D?line=15'>16</a>\u001b[0m \u001b[39m# 침식 연산 : 어두운 영역이 커짐\u001b[39;00m\n\u001b[0;32m     <a href='vscode-notebook-cell:/c%3A/git/WKIT/Test/OpenCV/OpenCV26.ipynb#W2sZmlsZQ%3D%3D?line=16'>17</a>\u001b[0m \u001b[39m# cv2.erode(원본 배열, 구조 요소, 고정점, 반복 횟수, 테두리 외삽법, 테두리 색상)\u001b[39;00m\n\u001b[0;32m     <a href='vscode-notebook-cell:/c%3A/git/WKIT/Test/OpenCV/OpenCV26.ipynb#W2sZmlsZQ%3D%3D?line=17'>18</a>\u001b[0m erode \u001b[39m=\u001b[39m cv2\u001b[39m.\u001b[39merode(src, kernel, anchor\u001b[39m=\u001b[39m(\u001b[39m-\u001b[39m\u001b[39m1\u001b[39m, \u001b[39m-\u001b[39m\u001b[39m1\u001b[39m), iterations\u001b[39m=\u001b[39m\u001b[39m5\u001b[39m)\n",
      "\u001b[1;31merror\u001b[0m: OpenCV(4.6.0) D:\\a\\opencv-python\\opencv-python\\opencv\\modules\\imgproc\\src\\morph.dispatch.cpp:1022: error: (-215:Assertion failed) !src.empty() in function 'cv::dilate'\n"
     ]
    }
   ],
   "source": [
    "src = cv2.imread('zebra.jpg', cv2.IMREAD_REDUCED_COLOR_2)\n",
    "\n",
    "# 구조 요소 생성\n",
    "# cv2.getStructuringElement(커널의 형태, 커널의 크기, 중심점)\n",
    "# 커널의 형태 : 직사각형(Rect), 십자가(Cross), 타원(Ellipse)\n",
    "# 커널의 크기 : 구조 요소의 크기, 커널의 크기가 너무 작다면 커널의 형태는 영향을 받지 않음\n",
    "# 중심점 : 커널의 중심 위치. 필수 매개변수가 아니며, 설정하지 않을 경우 사용되는 함수에서 값이 결정(유동적)\n",
    "kernel = cv2.getStructuringElement(cv2.MORPH_CROSS, (9, 9))\n",
    "\n",
    "# 모폴로지 변환(dilate:팽창, erode:침식)\n",
    "\n",
    "# 팽창 연산 : 밝은 영역이 커짐\n",
    "# cv2.dilate(원본 배열, 구조 요소, 고정점, 반복 횟수, 테두리 외삽법, 테두리 색상)\n",
    "dilate = cv2.dilate(src, kernel, anchor=(-1, -1), iterations=5, borderType=cv2.BORDER_CONSTANT)\n",
    "\n",
    "# 침식 연산 : 어두운 영역이 커짐\n",
    "# cv2.erode(원본 배열, 구조 요소, 고정점, 반복 횟수, 테두리 외삽법, 테두리 색상)\n",
    "erode = cv2.erode(src, kernel, anchor=(-1, -1), iterations=5)\n",
    "\n",
    "# 고정점을 (-1, -1)로 할당할 경우, 커널의 중심부에 고정점이 위치\n",
    "\n",
    "\n",
    "# dst = np.concatenate((src, dilate, erode), axis=1)\n",
    "\n",
    "# cv2.imshow('dst', dst)\n",
    "# cv2.waitKey(0)\n",
    "# cv2.destroyAllWindows()"
   ]
  },
  {
   "cell_type": "code",
   "execution_count": null,
   "metadata": {},
   "outputs": [],
   "source": []
  },
  {
   "cell_type": "code",
   "execution_count": null,
   "metadata": {},
   "outputs": [],
   "source": []
  },
  {
   "cell_type": "code",
   "execution_count": null,
   "metadata": {},
   "outputs": [],
   "source": []
  },
  {
   "cell_type": "code",
   "execution_count": null,
   "metadata": {},
   "outputs": [],
   "source": []
  },
  {
   "cell_type": "code",
   "execution_count": null,
   "metadata": {},
   "outputs": [],
   "source": []
  },
  {
   "cell_type": "code",
   "execution_count": null,
   "metadata": {},
   "outputs": [],
   "source": []
  },
  {
   "cell_type": "code",
   "execution_count": null,
   "metadata": {},
   "outputs": [],
   "source": []
  },
  {
   "cell_type": "code",
   "execution_count": null,
   "metadata": {},
   "outputs": [],
   "source": []
  },
  {
   "cell_type": "code",
   "execution_count": null,
   "metadata": {},
   "outputs": [],
   "source": []
  }
 ],
 "metadata": {
  "kernelspec": {
   "display_name": "Python 3.8.13 ('torch_conda3.8')",
   "language": "python",
   "name": "python3"
  },
  "language_info": {
   "codemirror_mode": {
    "name": "ipython",
    "version": 3
   },
   "file_extension": ".py",
   "mimetype": "text/x-python",
   "name": "python",
   "nbconvert_exporter": "python",
   "pygments_lexer": "ipython3",
   "version": "3.8.13"
  },
  "orig_nbformat": 4,
  "vscode": {
   "interpreter": {
    "hash": "f98a42b8bc21e77715747c9bb39187f4c90456d6964ccc6a99ab4ed80b694914"
   }
  }
 },
 "nbformat": 4,
 "nbformat_minor": 2
}
