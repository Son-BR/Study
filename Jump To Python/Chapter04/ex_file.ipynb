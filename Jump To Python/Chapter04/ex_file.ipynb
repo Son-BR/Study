{
 "cells": [
  {
   "cell_type": "markdown",
   "metadata": {},
   "source": [
    "# 파일 읽고 쓰기"
   ]
  },
  {
   "cell_type": "markdown",
   "metadata": {},
   "source": [
    "### 파일 생성하기"
   ]
  },
  {
   "cell_type": "code",
   "execution_count": 15,
   "metadata": {},
   "outputs": [],
   "source": [
    "# open(파일이름, 파일열기보드(쓰기w,읽기r,추가a))\n",
    "\n",
    "f=open('test.txt','w') # w -> 파일 이미 존재할 경우 내용사라짐, 없으면 생성\n",
    "f.close()"
   ]
  },
  {
   "cell_type": "markdown",
   "metadata": {},
   "source": [
    "---\n",
    "### 파일을 쓰기 모드로 열어 출력값 적기"
   ]
  },
  {
   "cell_type": "code",
   "execution_count": 16,
   "metadata": {},
   "outputs": [],
   "source": [
    "f=open('새파일.txt',mode='w')\n",
    "for i in range(1, 11):\n",
    "    data = \"%d번째 줄입니다.\\n\" % i\n",
    "    f.write(data)\n",
    "f.close()"
   ]
  },
  {
   "cell_type": "code",
   "execution_count": 17,
   "metadata": {},
   "outputs": [
    {
     "name": "stdout",
     "output_type": "stream",
     "text": [
      "1번째 줄입니다.\n",
      "\n",
      "2번째 줄입니다.\n",
      "\n",
      "3번째 줄입니다.\n",
      "\n",
      "4번째 줄입니다.\n",
      "\n",
      "5번째 줄입니다.\n",
      "\n",
      "6번째 줄입니다.\n",
      "\n",
      "7번째 줄입니다.\n",
      "\n",
      "8번째 줄입니다.\n",
      "\n",
      "9번째 줄입니다.\n",
      "\n",
      "10번째 줄입니다.\n",
      "\n"
     ]
    }
   ],
   "source": [
    "for i in range(1, 11):\n",
    "    data = \"%d번째 줄입니다.\\n\" % i\n",
    "    print(data)"
   ]
  },
  {
   "cell_type": "markdown",
   "metadata": {},
   "source": [
    "---\n",
    "### 파일읽기"
   ]
  },
  {
   "cell_type": "code",
   "execution_count": 20,
   "metadata": {},
   "outputs": [
    {
     "name": "stdout",
     "output_type": "stream",
     "text": [
      "1번째 줄입니다.\n",
      "\n",
      "==================================================\n",
      "1번째 줄입니다.\n",
      "\n",
      "2번째 줄입니다.\n",
      "\n",
      "3번째 줄입니다.\n",
      "\n",
      "4번째 줄입니다.\n",
      "\n",
      "5번째 줄입니다.\n",
      "\n",
      "6번째 줄입니다.\n",
      "\n",
      "7번째 줄입니다.\n",
      "\n",
      "8번째 줄입니다.\n",
      "\n",
      "9번째 줄입니다.\n",
      "\n",
      "10번째 줄입니다.\n",
      "\n"
     ]
    }
   ],
   "source": [
    "# .readline() 함수\n",
    "f = open(\"새파일.txt\", 'r')\n",
    "line = f.readline()\n",
    "print(line)\n",
    "f.close()\n",
    "\n",
    "print('='*50)\n",
    "\n",
    "# readline 함수로 모든 줄 읽기\n",
    "f = open(\"새파일.txt\", 'r')\n",
    "while True:\n",
    "    line = f.readline()\n",
    "    if not line: break\n",
    "    print(line)\n",
    "f.close()\n",
    "\n",
    "# 더 이상 읽을 줄이 없으면 break"
   ]
  },
  {
   "cell_type": "code",
   "execution_count": 24,
   "metadata": {},
   "outputs": [
    {
     "name": "stdout",
     "output_type": "stream",
     "text": [
      "1번째 줄입니다.\n",
      "\n",
      "2번째 줄입니다.\n",
      "\n",
      "3번째 줄입니다.\n",
      "\n",
      "4번째 줄입니다.\n",
      "\n",
      "5번째 줄입니다.\n",
      "\n",
      "6번째 줄입니다.\n",
      "\n",
      "7번째 줄입니다.\n",
      "\n",
      "8번째 줄입니다.\n",
      "\n",
      "9번째 줄입니다.\n",
      "\n",
      "10번째 줄입니다.\n",
      "\n"
     ]
    }
   ],
   "source": [
    "# .readlines() 함수\n",
    "f = open(\"새파일.txt\", 'r')\n",
    "lines = f.readlines()\n",
    "for line in lines:\n",
    "    print(line)\n",
    "f.close()\n",
    "\n",
    "# 파일의 모든 줄을 읽어서 각각의 줄을 요소로 갖는 리스트로 반환"
   ]
  },
  {
   "cell_type": "code",
   "execution_count": 22,
   "metadata": {},
   "outputs": [
    {
     "name": "stdout",
     "output_type": "stream",
     "text": [
      "1번째 줄입니다.\n",
      "2번째 줄입니다.\n",
      "3번째 줄입니다.\n",
      "4번째 줄입니다.\n",
      "5번째 줄입니다.\n",
      "6번째 줄입니다.\n",
      "7번째 줄입니다.\n",
      "8번째 줄입니다.\n",
      "9번째 줄입니다.\n",
      "10번째 줄입니다.\n"
     ]
    }
   ],
   "source": [
    "# 줄바꿈문자 제거하기\n",
    "f = open(\"새파일.txt\", 'r')\n",
    "lines = f.readlines()\n",
    "for line in lines:\n",
    "    line = line.strip()  # 줄 끝의 줄 바꿈 문자를 제거한다.\n",
    "    print(line)\n",
    "f.close()"
   ]
  },
  {
   "cell_type": "code",
   "execution_count": 23,
   "metadata": {},
   "outputs": [
    {
     "name": "stdout",
     "output_type": "stream",
     "text": [
      "1번째 줄입니다.\n",
      "2번째 줄입니다.\n",
      "3번째 줄입니다.\n",
      "4번째 줄입니다.\n",
      "5번째 줄입니다.\n",
      "6번째 줄입니다.\n",
      "7번째 줄입니다.\n",
      "8번째 줄입니다.\n",
      "9번째 줄입니다.\n",
      "10번째 줄입니다.\n",
      "\n"
     ]
    }
   ],
   "source": [
    "# .read() 함수\n",
    "f = open(\"새파일.txt\", 'r')\n",
    "data = f.read()\n",
    "print(data)\n",
    "f.close()\n",
    "\n",
    "# 파일의 내용 전체를 문자열로 반환"
   ]
  },
  {
   "cell_type": "markdown",
   "metadata": {},
   "source": [
    "---\n",
    "### 새로운 내용 추가"
   ]
  },
  {
   "cell_type": "code",
   "execution_count": 25,
   "metadata": {},
   "outputs": [],
   "source": [
    "# 추가 모드('a')\n",
    "f = open(\"새파일.txt\",'a')\n",
    "for i in range(11, 20):\n",
    "    data = \"%d번째 줄입니다.\\n\" % i\n",
    "    f.write(data)\n",
    "f.close()"
   ]
  },
  {
   "cell_type": "code",
   "execution_count": null,
   "metadata": {},
   "outputs": [],
   "source": []
  },
  {
   "cell_type": "markdown",
   "metadata": {},
   "source": [
    "---\n",
    "### with문"
   ]
  },
  {
   "cell_type": "code",
   "execution_count": 26,
   "metadata": {},
   "outputs": [
    {
     "name": "stdout",
     "output_type": "stream",
     "text": [
      "['1번째 줄입니다.\\n', '2번째 줄입니다.\\n', '3번째 줄입니다.\\n', '4번째 줄입니다.\\n', '5번째 줄입니다.\\n', '6번째 줄입니다.\\n', '7번째 줄입니다.\\n', '8번째 줄입니다.\\n', '9번째 줄입니다.\\n', '10번째 줄입니다.\\n', '11번째 줄입니다.\\n', '12번째 줄입니다.\\n', '13번째 줄입니다.\\n', '14번째 줄입니다.\\n', '15번째 줄입니다.\\n', '16번째 줄입니다.\\n', '17번째 줄입니다.\\n', '18번째 줄입니다.\\n', '19번째 줄입니다.\\n']\n"
     ]
    }
   ],
   "source": [
    "with open(\"새파일.txt\",'r') as f:\n",
    "    print(f.readlines())\n",
    "\n",
    "# with문을 벗어나는 순간 파일액체 자동으로 close"
   ]
  }
 ],
 "metadata": {
  "kernelspec": {
   "display_name": "Python 3.9.10 64-bit",
   "language": "python",
   "name": "python3"
  },
  "language_info": {
   "codemirror_mode": {
    "name": "ipython",
    "version": 3
   },
   "file_extension": ".py",
   "mimetype": "text/x-python",
   "name": "python",
   "nbconvert_exporter": "python",
   "pygments_lexer": "ipython3",
   "version": "3.9.10"
  },
  "orig_nbformat": 4,
  "vscode": {
   "interpreter": {
    "hash": "cf92aa13fedf815d5c8dd192b8d835913fde3e8bc926b2a0ad6cc74ef2ba3ca2"
   }
  }
 },
 "nbformat": 4,
 "nbformat_minor": 2
}
